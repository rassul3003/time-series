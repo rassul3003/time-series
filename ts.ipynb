{
 "cells": [
  {
   "cell_type": "code",
   "execution_count": 1,
   "id": "a7a8e286",
   "metadata": {
    "slideshow": null
   },
   "outputs": [],
   "source": [
    "import seaborn as sns\n",
    "sns.set()"
   ]
  },
  {
   "cell_type": "code",
   "execution_count": 2,
   "id": "a408a58c",
   "metadata": {
    "slideshow": null
   },
   "outputs": [],
   "source": [
    "import numpy as np\n",
    "import pandas as pd\n",
    "import datetime as dt\n",
    "from static_grader import grader"
   ]
  },
  {
   "cell_type": "markdown",
   "id": "0ab3bc24",
   "metadata": {
    "slideshow": null
   },
   "source": [
    "# Time Series Data: Predict Temperature"
   ]
  },
  {
   "cell_type": "markdown",
   "id": "64d82109",
   "metadata": {
    "slideshow": null
   },
   "source": [
    "Time series prediction presents its own challenges which are different from machine-learning problems.  As with many other classes of problems, there are a number of common features in these predictions.\n"
   ]
  },
  {
   "cell_type": "markdown",
   "id": "0b6a218b",
   "metadata": {
    "slideshow": null
   },
   "source": [
    "## A note on scoring"
   ]
  },
  {
   "cell_type": "markdown",
   "id": "4e5ea4cc",
   "metadata": {
    "slideshow": null
   },
   "source": [
    "It **is** possible to score >1 on these questions. This indicates that you've beaten our reference model - we compare our model's score on a test set to your score on a test set. See how high you can go!\n"
   ]
  },
  {
   "cell_type": "markdown",
   "id": "721043fb",
   "metadata": {
    "slideshow": null
   },
   "source": [
    "## Fetch the data:"
   ]
  },
  {
   "cell_type": "code",
   "execution_count": 3,
   "id": "7620d866",
   "metadata": {
    "slideshow": null
   },
   "outputs": [],
   "source": [
    "!aws s3 sync s3://dataincubator-course/mldata/ . --exclude '*' --include 'train.v2.csv.gz'"
   ]
  },
  {
   "cell_type": "markdown",
   "id": "7262e844",
   "metadata": {
    "slideshow": null
   },
   "source": [
    "The data can be loaded into pandas easily:"
   ]
  },
  {
   "cell_type": "code",
   "execution_count": 4,
   "id": "b4f3f2cd",
   "metadata": {
    "scrolled": true,
    "slideshow": null
   },
   "outputs": [
    {
     "data": {
      "text/html": [
       "<div>\n",
       "<style scoped>\n",
       "    .dataframe tbody tr th:only-of-type {\n",
       "        vertical-align: middle;\n",
       "    }\n",
       "\n",
       "    .dataframe tbody tr th {\n",
       "        vertical-align: top;\n",
       "    }\n",
       "\n",
       "    .dataframe thead th {\n",
       "        text-align: right;\n",
       "    }\n",
       "</style>\n",
       "<table border=\"1\" class=\"dataframe\">\n",
       "  <thead>\n",
       "    <tr style=\"text-align: right;\">\n",
       "      <th></th>\n",
       "      <th>station</th>\n",
       "      <th>time</th>\n",
       "      <th>temp</th>\n",
       "      <th>dew_point</th>\n",
       "      <th>pressure</th>\n",
       "      <th>wind_speed</th>\n",
       "      <th>wind_direction</th>\n",
       "      <th>precip_hour</th>\n",
       "      <th>weather_codes</th>\n",
       "    </tr>\n",
       "  </thead>\n",
       "  <tbody>\n",
       "    <tr>\n",
       "      <th>0</th>\n",
       "      <td>PHX</td>\n",
       "      <td>2010-01-01 00:51</td>\n",
       "      <td>62.06</td>\n",
       "      <td>15.98</td>\n",
       "      <td>1024.90</td>\n",
       "      <td>3.00</td>\n",
       "      <td>20.00</td>\n",
       "      <td>M</td>\n",
       "      <td>M</td>\n",
       "    </tr>\n",
       "    <tr>\n",
       "      <th>1</th>\n",
       "      <td>PHX</td>\n",
       "      <td>2010-01-01 01:51</td>\n",
       "      <td>60.08</td>\n",
       "      <td>17.96</td>\n",
       "      <td>1025.30</td>\n",
       "      <td>4.00</td>\n",
       "      <td>50.00</td>\n",
       "      <td>M</td>\n",
       "      <td>M</td>\n",
       "    </tr>\n",
       "    <tr>\n",
       "      <th>2</th>\n",
       "      <td>PHX</td>\n",
       "      <td>2010-01-01 02:51</td>\n",
       "      <td>59.00</td>\n",
       "      <td>17.96</td>\n",
       "      <td>1025.60</td>\n",
       "      <td>4.00</td>\n",
       "      <td>30.00</td>\n",
       "      <td>M</td>\n",
       "      <td>M</td>\n",
       "    </tr>\n",
       "    <tr>\n",
       "      <th>3</th>\n",
       "      <td>PHX</td>\n",
       "      <td>2010-01-01 03:51</td>\n",
       "      <td>53.96</td>\n",
       "      <td>21.92</td>\n",
       "      <td>1026.00</td>\n",
       "      <td>0.00</td>\n",
       "      <td>0.00</td>\n",
       "      <td>M</td>\n",
       "      <td>M</td>\n",
       "    </tr>\n",
       "    <tr>\n",
       "      <th>4</th>\n",
       "      <td>PHX</td>\n",
       "      <td>2010-01-01 04:51</td>\n",
       "      <td>55.94</td>\n",
       "      <td>17.06</td>\n",
       "      <td>1026.20</td>\n",
       "      <td>5.00</td>\n",
       "      <td>40.00</td>\n",
       "      <td>M</td>\n",
       "      <td>M</td>\n",
       "    </tr>\n",
       "  </tbody>\n",
       "</table>\n",
       "</div>"
      ],
      "text/plain": [
       "  station              time   temp dew_point pressure wind_speed  \\\n",
       "0     PHX  2010-01-01 00:51  62.06     15.98  1024.90       3.00   \n",
       "1     PHX  2010-01-01 01:51  60.08     17.96  1025.30       4.00   \n",
       "2     PHX  2010-01-01 02:51  59.00     17.96  1025.60       4.00   \n",
       "3     PHX  2010-01-01 03:51  53.96     21.92  1026.00       0.00   \n",
       "4     PHX  2010-01-01 04:51  55.94     17.06  1026.20       5.00   \n",
       "\n",
       "  wind_direction precip_hour weather_codes  \n",
       "0          20.00           M             M  \n",
       "1          50.00           M             M  \n",
       "2          30.00           M             M  \n",
       "3           0.00           M             M  \n",
       "4          40.00           M             M  "
      ]
     },
     "execution_count": 4,
     "metadata": {},
     "output_type": "execute_result"
    }
   ],
   "source": [
    "df = pd.read_csv('train.v2.csv.gz')\n",
    "df.head()"
   ]
  },
  {
   "cell_type": "code",
   "execution_count": 5,
   "id": "8bc076cc",
   "metadata": {},
   "outputs": [
    {
     "data": {
      "text/html": [
       "<div>\n",
       "<style scoped>\n",
       "    .dataframe tbody tr th:only-of-type {\n",
       "        vertical-align: middle;\n",
       "    }\n",
       "\n",
       "    .dataframe tbody tr th {\n",
       "        vertical-align: top;\n",
       "    }\n",
       "\n",
       "    .dataframe thead th {\n",
       "        text-align: right;\n",
       "    }\n",
       "</style>\n",
       "<table border=\"1\" class=\"dataframe\">\n",
       "  <thead>\n",
       "    <tr style=\"text-align: right;\">\n",
       "      <th></th>\n",
       "      <th>station</th>\n",
       "      <th>time</th>\n",
       "      <th>temp</th>\n",
       "      <th>dew_point</th>\n",
       "      <th>pressure</th>\n",
       "      <th>wind_speed</th>\n",
       "      <th>wind_direction</th>\n",
       "      <th>precip_hour</th>\n",
       "      <th>weather_codes</th>\n",
       "    </tr>\n",
       "  </thead>\n",
       "  <tbody>\n",
       "    <tr>\n",
       "      <th>0</th>\n",
       "      <td>PHX</td>\n",
       "      <td>2010-01-01 00:51</td>\n",
       "      <td>62.06</td>\n",
       "      <td>15.98</td>\n",
       "      <td>1024.90</td>\n",
       "      <td>3.00</td>\n",
       "      <td>20.00</td>\n",
       "      <td>M</td>\n",
       "      <td>M</td>\n",
       "    </tr>\n",
       "  </tbody>\n",
       "</table>\n",
       "</div>"
      ],
      "text/plain": [
       "  station              time   temp dew_point pressure wind_speed  \\\n",
       "0     PHX  2010-01-01 00:51  62.06     15.98  1024.90       3.00   \n",
       "\n",
       "  wind_direction precip_hour weather_codes  \n",
       "0          20.00           M             M  "
      ]
     },
     "execution_count": 5,
     "metadata": {},
     "output_type": "execute_result"
    }
   ],
   "source": [
    "# test for question 2 \n",
    "\n",
    "df.iloc[0:1]"
   ]
  },
  {
   "cell_type": "markdown",
   "id": "bca60cd5",
   "metadata": {
    "slideshow": null
   },
   "source": [
    "The `station` column indicates the city.  The `time` is measured in UTC.  Both `temp` and `dew_point` are measured in degrees Fahrenheit.  The `wind_speed` is in knots, and the `precip_hour` measures the hourly precipitation in inches.\n",
    "\n",
    "Missing values are indicated by a flag value.  Remove rows without valid temperature measurements.  You may also want to change some data types. (But keep in mind that the data provided by the grader will have the same data types as `pd.read_csv` provided.)"
   ]
  },
  {
   "cell_type": "code",
   "execution_count": 6,
   "id": "4b269ebe",
   "metadata": {},
   "outputs": [
    {
     "data": {
      "text/plain": [
       "(392136, 9)"
      ]
     },
     "execution_count": 6,
     "metadata": {},
     "output_type": "execute_result"
    }
   ],
   "source": [
    "df.shape"
   ]
  },
  {
   "cell_type": "code",
   "execution_count": 7,
   "id": "323bfdb9",
   "metadata": {},
   "outputs": [
    {
     "data": {
      "text/plain": [
       "station           object\n",
       "time              object\n",
       "temp              object\n",
       "dew_point         object\n",
       "pressure          object\n",
       "wind_speed        object\n",
       "wind_direction    object\n",
       "precip_hour       object\n",
       "weather_codes     object\n",
       "dtype: object"
      ]
     },
     "execution_count": 7,
     "metadata": {},
     "output_type": "execute_result"
    }
   ],
   "source": [
    "# check the data types of every feature\n",
    "\n",
    "df.dtypes"
   ]
  },
  {
   "cell_type": "code",
   "execution_count": 8,
   "id": "252d80ac",
   "metadata": {
    "scrolled": true
   },
   "outputs": [
    {
     "data": {
      "text/plain": [
       "dtype('O')"
      ]
     },
     "execution_count": 8,
     "metadata": {},
     "output_type": "execute_result"
    }
   ],
   "source": [
    "# check the data type of 'temp' column only. \n",
    "# it appears to be 'object', which is a mix of strings, numbers, or other objects\n",
    "\n",
    "df['temp'].dtype"
   ]
  },
  {
   "cell_type": "code",
   "execution_count": 9,
   "id": "9c53ae08",
   "metadata": {},
   "outputs": [
    {
     "data": {
      "text/plain": [
       "str"
      ]
     },
     "execution_count": 9,
     "metadata": {},
     "output_type": "execute_result"
    }
   ],
   "source": [
    "# check the data type of first row value in 'temp' column\n",
    "\n",
    "type(df.iat[0,3])"
   ]
  },
  {
   "cell_type": "code",
   "execution_count": 10,
   "id": "0ac191f4",
   "metadata": {
    "scrolled": false
   },
   "outputs": [
    {
     "data": {
      "text/plain": [
       "count     392136\n",
       "unique       577\n",
       "top        77.00\n",
       "freq       10458\n",
       "Name: temp, dtype: object"
      ]
     },
     "execution_count": 10,
     "metadata": {},
     "output_type": "execute_result"
    }
   ],
   "source": [
    "# also tells the data type of the 'temp' column\n",
    "\n",
    "df['temp'].describe()"
   ]
  },
  {
   "cell_type": "code",
   "execution_count": 11,
   "id": "d3a4263b",
   "metadata": {
    "scrolled": true
   },
   "outputs": [
    {
     "data": {
      "text/plain": [
       "array(['62.06', '60.08', '59.00', '53.96', '55.94', '53.06', '46.94',\n",
       "       '48.02', '44.96', '42.98', '41.00', '42.10', '46.04', '60.98',\n",
       "       '62.96', '64.94', '66.02', '68.00', '66.92', '60.10', '50.00',\n",
       "       '57.02', '64.04', '69.08', '69.98', '51.98', '51.08', '48.92',\n",
       "       '44.06', '71.06', '57.92', '57.00', '73.04', '71.96', '55.04',\n",
       "       '51.80', '53.60', '48.00', '62.60', '48.90', '48.20', '66.20',\n",
       "       '44.60', '73.94', '75.02', '73.00', '64.40', '71.60', '62.10',\n",
       "       '60.80', '54.00', '57.20', '55.40', '46.40', '42.08', '66.00',\n",
       "       '55.90', '69.80', '64.90', '52.00', '75.92', '73.40', '75.20',\n",
       "       '77.00', '42.80', '55.00', '51.10', '69.10', '46.90', '66.90',\n",
       "       '78.98', '80.06', '78.08', '82.04', '82.94', '84.02', '84.92',\n",
       "       '81.00', '82.00', '82.76', '80.96', '81.14', '82.22', '80.10',\n",
       "       '61.20', '60.30', '58.64', '56.50', '55.80', '55.58', '54.68',\n",
       "       '54.70', '53.80', '57.70', '64.00', '53.10', '73.90', '82.40',\n",
       "       '86.00', '74.48', '72.68', 'M', '84.20', '87.08', '87.98', '78.80',\n",
       "       '72.00', '87.80', '90.70', '70.20', '68.40', '71.24', '74.84',\n",
       "       '82.90', '89.06', '93.90', '96.08', '93.56', '94.64', '91.94',\n",
       "       '89.60', '86.72', '84.38', '81.86', '80.20', '77.18', '74.66',\n",
       "       '74.30', '77.72', '80.24', '83.30', '84.90', '81.32', '80.60',\n",
       "       '89.96', '91.40', '91.04', '93.02', '93.92', '95.00', '96.10',\n",
       "       '93.20', '98.06', '98.60', '100.94', '100.04', '98.96', '96.98',\n",
       "       '84.00', '85.30', '90.32', '92.70', '96.80', '93.00', '75.90',\n",
       "       '102.02', '105.08', '107.06', '104.00', '105.98', '107.96',\n",
       "       '102.92', '98.10', '100.40', '102.20', '100.00', '91.00', '99.00',\n",
       "       '78.10', '102.00', '90.00', '102.90', '109.00', '111.02', '109.40',\n",
       "       '109.94', '109.04', '105.80', '89.10', '108.00', '106.00', '97.00',\n",
       "       '88.00', '107.60', '107.10', '111.00', '103.82', '111.92',\n",
       "       '111.20', '100.90', '87.10', '105.10', '91.90', '109.90', '100.58',\n",
       "       '102.56', '102.74', '71.10', '70.00', '39.02', '39.92', '37.04',\n",
       "       '35.96', '37.40', '61.00', '37.94', '35.06', '33.98', '33.08',\n",
       "       '32.00', '30.92', '30.02', '58.10', '61.34', '79.34', '114.08',\n",
       "       '113.00', '115.00', '114.10', '114.98', '79.00', '111.90', '63.14',\n",
       "       '53.78', '28.94', '116.06', '118.04', '116.96', '63.00', '75.00',\n",
       "       '57.90', '45.00', '44.10', '43.00', '46.00', '64.20', '68.90',\n",
       "       '39.00', '39.90', '37.90', '37.00', '36.00', '116.10', '117.00',\n",
       "       '118.00', '118.90', '59.36', '39.20', '56.84', '57.74', '56.66',\n",
       "       '55.76', '55.22', '70.88', '65.30', '61.16', '60.62', '60.26',\n",
       "       '58.46', '58.28', '60.44', '54.50', '70.34', '65.48', '61.88',\n",
       "       '61.70', '53.42', '52.34', '61.52', '59.54', '76.64', '73.76',\n",
       "       '70.52', '70.16', '72.14', '72.32', '72.50', '68.54', '70.70',\n",
       "       '68.18', '74.70', '77.54', '77.36', '77.70', '74.12', '73.58',\n",
       "       '76.82', '71.78', '73.22', '79.52', '75.74', '75.38', '76.10',\n",
       "       '79.70', '83.12', '76.28', '76.30', '69.26', '72.86', '71.20',\n",
       "       '75.56', '72.30', '73.20', '79.88', '82.58', '83.84', '81.68',\n",
       "       '78.44', '78.62', '69.62', '67.28', '69.44', '64.58', '71.42',\n",
       "       '77.90', '68.36', '67.46', '66.74', '67.82', '76.46', '67.64',\n",
       "       '68.72', '78.26', '65.84', '64.22', '63.32', '63.68', '80.42',\n",
       "       '64.76', '79.16', '83.48', '5.0', '3.92', '3.02', '1.04', '1.94',\n",
       "       '1.0', '6.08', '-0.94', '-2.02', '-4.0', '-5.98', '-7.06', '-9.04',\n",
       "       '-9.94', '-11.02', '-11.92', '-13.0', '-14.08', '-14.98', '-7.96',\n",
       "       '-5.08', '-0.04', '-2.92', '6.98', '8.96', '10.04', '8.06',\n",
       "       '10.94', '12.92', '14.0', '15.98', '15.08', '-0.4', '6.8', '-7.6',\n",
       "       '3.2', '-5.8', '12.02', '12.2', '15.8', '17.06', '19.04', '19.94',\n",
       "       '21.02', '17.96', '21.92', '23.0', '26.96', '28.04', '24.98',\n",
       "       '24.08', '17.6', '26.06', '26.6', '19.4', '32.0', '16.0', '35.6',\n",
       "       '33.8', '24.8', '8.6', '-2.2', '10.4', '12.9', '21.2', '28.4',\n",
       "       '30.2', '34.0', '37.4', '41.0', '39.2', '42.8', '46.4', '50.0',\n",
       "       '57.2', '60.1', '48.2', '44.6', '59.0', '55.4', '73.4', '68.0',\n",
       "       '53.6', '66.2', '60.8', '69.8', '77.0', '75.2', '64.4', '55.9',\n",
       "       '51.8', '62.6', '63.0', '71.6', '87.8', '86.0', '82.4', '95.0',\n",
       "       '89.6', '75.9', '78.8', '80.6', '78.1', '84.2', '93.2', '84.0',\n",
       "       '91.4', '80.1', '66.0', '43.0', '54.0', '45.0', '12.0', '19.9',\n",
       "       '19.0', '18.0', '15.1', '10.9', '9.0', '30.0', '30.9', '24.1',\n",
       "       '8.1', '1.4', '10.0', '7.0', '17.1', '3.9', '27.0', '28.9', '25.0',\n",
       "       '-11.2', '72.0', '69.1', '66.9', '75.0', '82.9', '84.9', '81.0',\n",
       "       '73.9', '87.1', '88.0', '89.1', '90.0', '82.0', '79.0', '64.0',\n",
       "       '62.1', '61.0', '64.9', '70.0', '73.0', '71.1', '14.00', '5.00',\n",
       "       '-4.00', '23.00', '4.10', '6.80', '-13.00', '31.10', '30.20',\n",
       "       '28.22', '-16.06', '-16.96', '-18.94', '-20.02', '-20.92',\n",
       "       '-22.00', '-23.08', '-18.04', '35.10', '34.00', '33.10', '30.90',\n",
       "       '30.00', '28.90', '28.00', '27.00', '26.10', '25.00', '24.10',\n",
       "       '21.00', '21.90', '19.90', '19.00', '18.00', '17.10', '17.60',\n",
       "       '16.00', '15.10', '12.90', '10.90', '12.00', '10.00', '8.10',\n",
       "       '7.00', '6.10', '3.90', '9.00', '3.00', '1.90', '-0.90', '-2.00',\n",
       "       '1.00', '0.00', '-2.90', '-5.10', '-6.00', '-7.10', '-8.00',\n",
       "       '-9.00', '-11.00', '-11.90', '-14.10', '-16.10', '-17.00',\n",
       "       '-18.00', '-18.90', '-20.00', '-9.90', '-2.20', '-15.00', '28.40',\n",
       "       '33.80', '21.20', '15.80', '24.80', '35.60', '19.40', '26.60',\n",
       "       '54.14', '45.32', '10.40', '39.38', '38.48', '37.58', '36.14',\n",
       "       '35.24', '34.88', '32.72', '12.20', '8.60', '14.72', '50.90',\n",
       "       '51.30'], dtype=object)"
      ]
     },
     "execution_count": 11,
     "metadata": {},
     "output_type": "execute_result"
    }
   ],
   "source": [
    "# spot that some 'temp' values are non-numeric values, like 'M'\n",
    "\n",
    "df['temp'].unique()"
   ]
  },
  {
   "cell_type": "code",
   "execution_count": 12,
   "id": "11176f22",
   "metadata": {},
   "outputs": [],
   "source": [
    "# choose the rows only that are numeric, excluding red flags (string '')\n",
    "\n",
    "filtered_df = df[df['temp'] != 'M']"
   ]
  },
  {
   "cell_type": "code",
   "execution_count": 13,
   "id": "964e9adf",
   "metadata": {},
   "outputs": [
    {
     "name": "stdout",
     "output_type": "stream",
     "text": [
      "<class 'pandas.core.frame.DataFrame'>\n",
      "Int64Index: 392020 entries, 0 to 392135\n",
      "Data columns (total 9 columns):\n",
      " #   Column          Non-Null Count   Dtype \n",
      "---  ------          --------------   ----- \n",
      " 0   station         392020 non-null  object\n",
      " 1   time            392020 non-null  object\n",
      " 2   temp            392020 non-null  object\n",
      " 3   dew_point       392020 non-null  object\n",
      " 4   pressure        392020 non-null  object\n",
      " 5   wind_speed      392020 non-null  object\n",
      " 6   wind_direction  392020 non-null  object\n",
      " 7   precip_hour     392020 non-null  object\n",
      " 8   weather_codes   392020 non-null  object\n",
      "dtypes: object(9)\n",
      "memory usage: 29.9+ MB\n"
     ]
    }
   ],
   "source": [
    "filtered_df.info()"
   ]
  },
  {
   "cell_type": "markdown",
   "id": "23be8402",
   "metadata": {
    "slideshow": null
   },
   "source": [
    "We will focus on using the temporal elements to predict the temperature.\n"
   ]
  },
  {
   "cell_type": "markdown",
   "id": "a372ca2e",
   "metadata": {
    "slideshow": null
   },
   "source": [
    "# Questions\n"
   ]
  },
  {
   "cell_type": "markdown",
   "id": "fc14153f",
   "metadata": {
    "slideshow": null
   },
   "source": [
    "For each question, build a model to predict the temperature in a given city at a given time.  You will be given a DataFrame, as we got from `pd.read_csv`.  (As you can imagine, the temperature values will be nonsensical in the DataFrame you are given.)  Return a collection of predicted temperatures, one for each incoming row in the DataFrame.  "
   ]
  },
  {
   "cell_type": "markdown",
   "id": "c242012c",
   "metadata": {
    "slideshow": null
   },
   "source": [
    "## One-city model"
   ]
  },
  {
   "cell_type": "markdown",
   "id": "a1bcacd1",
   "metadata": {
    "slideshow": null
   },
   "source": [
    "As you may have noticed, the data contains rows for multiple cities.  We'll deal with all of them soon, but for this first question, we'll focus on only the data from New York (`\"NYC\"`).  Start by isolating only those rows."
   ]
  },
  {
   "cell_type": "code",
   "execution_count": 14,
   "id": "0b1cb67f",
   "metadata": {
    "scrolled": true,
    "slideshow": null
   },
   "outputs": [
    {
     "data": {
      "text/html": [
       "<div>\n",
       "<style scoped>\n",
       "    .dataframe tbody tr th:only-of-type {\n",
       "        vertical-align: middle;\n",
       "    }\n",
       "\n",
       "    .dataframe tbody tr th {\n",
       "        vertical-align: top;\n",
       "    }\n",
       "\n",
       "    .dataframe thead th {\n",
       "        text-align: right;\n",
       "    }\n",
       "</style>\n",
       "<table border=\"1\" class=\"dataframe\">\n",
       "  <thead>\n",
       "    <tr style=\"text-align: right;\">\n",
       "      <th></th>\n",
       "      <th>station</th>\n",
       "      <th>time</th>\n",
       "      <th>temp</th>\n",
       "      <th>dew_point</th>\n",
       "      <th>pressure</th>\n",
       "      <th>wind_speed</th>\n",
       "      <th>wind_direction</th>\n",
       "      <th>precip_hour</th>\n",
       "      <th>weather_codes</th>\n",
       "    </tr>\n",
       "  </thead>\n",
       "  <tbody>\n",
       "    <tr>\n",
       "      <th>314317</th>\n",
       "      <td>NYC</td>\n",
       "      <td>2010-01-01 00:51</td>\n",
       "      <td>33.98</td>\n",
       "      <td>30.92</td>\n",
       "      <td>1017.70</td>\n",
       "      <td>3.00</td>\n",
       "      <td>40.00</td>\n",
       "      <td>M</td>\n",
       "      <td>BR</td>\n",
       "    </tr>\n",
       "    <tr>\n",
       "      <th>314318</th>\n",
       "      <td>NYC</td>\n",
       "      <td>2010-01-01 01:51</td>\n",
       "      <td>33.98</td>\n",
       "      <td>30.92</td>\n",
       "      <td>1017.50</td>\n",
       "      <td>0.00</td>\n",
       "      <td>0.00</td>\n",
       "      <td>0.01</td>\n",
       "      <td>-SN BR</td>\n",
       "    </tr>\n",
       "    <tr>\n",
       "      <th>314319</th>\n",
       "      <td>NYC</td>\n",
       "      <td>2010-01-01 02:51</td>\n",
       "      <td>33.98</td>\n",
       "      <td>30.92</td>\n",
       "      <td>1016.80</td>\n",
       "      <td>0.00</td>\n",
       "      <td>0.00</td>\n",
       "      <td>0.03</td>\n",
       "      <td>UP BR</td>\n",
       "    </tr>\n",
       "    <tr>\n",
       "      <th>314320</th>\n",
       "      <td>NYC</td>\n",
       "      <td>2010-01-01 03:51</td>\n",
       "      <td>33.10</td>\n",
       "      <td>32.00</td>\n",
       "      <td>1016.50</td>\n",
       "      <td>5.00</td>\n",
       "      <td>60.00</td>\n",
       "      <td>0.02</td>\n",
       "      <td>-SN BR</td>\n",
       "    </tr>\n",
       "    <tr>\n",
       "      <th>314321</th>\n",
       "      <td>NYC</td>\n",
       "      <td>2010-01-01 04:51</td>\n",
       "      <td>33.08</td>\n",
       "      <td>30.92</td>\n",
       "      <td>1015.80</td>\n",
       "      <td>0.00</td>\n",
       "      <td>0.00</td>\n",
       "      <td>0.01</td>\n",
       "      <td>-SN BR</td>\n",
       "    </tr>\n",
       "    <tr>\n",
       "      <th>...</th>\n",
       "      <td>...</td>\n",
       "      <td>...</td>\n",
       "      <td>...</td>\n",
       "      <td>...</td>\n",
       "      <td>...</td>\n",
       "      <td>...</td>\n",
       "      <td>...</td>\n",
       "      <td>...</td>\n",
       "      <td>...</td>\n",
       "    </tr>\n",
       "    <tr>\n",
       "      <th>392131</th>\n",
       "      <td>NYC</td>\n",
       "      <td>2018-12-31 19:51</td>\n",
       "      <td>43.00</td>\n",
       "      <td>37.90</td>\n",
       "      <td>1024.10</td>\n",
       "      <td>M</td>\n",
       "      <td>M</td>\n",
       "      <td>0.03</td>\n",
       "      <td>-RA</td>\n",
       "    </tr>\n",
       "    <tr>\n",
       "      <th>392132</th>\n",
       "      <td>NYC</td>\n",
       "      <td>2018-12-31 20:51</td>\n",
       "      <td>43.00</td>\n",
       "      <td>37.90</td>\n",
       "      <td>1023.40</td>\n",
       "      <td>M</td>\n",
       "      <td>M</td>\n",
       "      <td>0.02</td>\n",
       "      <td>-RA</td>\n",
       "    </tr>\n",
       "    <tr>\n",
       "      <th>392133</th>\n",
       "      <td>NYC</td>\n",
       "      <td>2018-12-31 21:51</td>\n",
       "      <td>43.00</td>\n",
       "      <td>39.90</td>\n",
       "      <td>1021.60</td>\n",
       "      <td>M</td>\n",
       "      <td>M</td>\n",
       "      <td>0.04</td>\n",
       "      <td>RA BR</td>\n",
       "    </tr>\n",
       "    <tr>\n",
       "      <th>392134</th>\n",
       "      <td>NYC</td>\n",
       "      <td>2018-12-31 22:51</td>\n",
       "      <td>43.00</td>\n",
       "      <td>41.00</td>\n",
       "      <td>1020.90</td>\n",
       "      <td>M</td>\n",
       "      <td>M</td>\n",
       "      <td>0.05</td>\n",
       "      <td>RA BR</td>\n",
       "    </tr>\n",
       "    <tr>\n",
       "      <th>392135</th>\n",
       "      <td>NYC</td>\n",
       "      <td>2018-12-31 23:51</td>\n",
       "      <td>44.10</td>\n",
       "      <td>42.10</td>\n",
       "      <td>1019.70</td>\n",
       "      <td>M</td>\n",
       "      <td>M</td>\n",
       "      <td>0.09</td>\n",
       "      <td>RA BR</td>\n",
       "    </tr>\n",
       "  </tbody>\n",
       "</table>\n",
       "<p>77745 rows × 9 columns</p>\n",
       "</div>"
      ],
      "text/plain": [
       "       station              time   temp dew_point pressure wind_speed  \\\n",
       "314317     NYC  2010-01-01 00:51  33.98     30.92  1017.70       3.00   \n",
       "314318     NYC  2010-01-01 01:51  33.98     30.92  1017.50       0.00   \n",
       "314319     NYC  2010-01-01 02:51  33.98     30.92  1016.80       0.00   \n",
       "314320     NYC  2010-01-01 03:51  33.10     32.00  1016.50       5.00   \n",
       "314321     NYC  2010-01-01 04:51  33.08     30.92  1015.80       0.00   \n",
       "...        ...               ...    ...       ...      ...        ...   \n",
       "392131     NYC  2018-12-31 19:51  43.00     37.90  1024.10          M   \n",
       "392132     NYC  2018-12-31 20:51  43.00     37.90  1023.40          M   \n",
       "392133     NYC  2018-12-31 21:51  43.00     39.90  1021.60          M   \n",
       "392134     NYC  2018-12-31 22:51  43.00     41.00  1020.90          M   \n",
       "392135     NYC  2018-12-31 23:51  44.10     42.10  1019.70          M   \n",
       "\n",
       "       wind_direction precip_hour weather_codes  \n",
       "314317          40.00           M            BR  \n",
       "314318           0.00        0.01        -SN BR  \n",
       "314319           0.00        0.03         UP BR  \n",
       "314320          60.00        0.02        -SN BR  \n",
       "314321           0.00        0.01        -SN BR  \n",
       "...               ...         ...           ...  \n",
       "392131              M        0.03           -RA  \n",
       "392132              M        0.02           -RA  \n",
       "392133              M        0.04         RA BR  \n",
       "392134              M        0.05         RA BR  \n",
       "392135              M        0.09         RA BR  \n",
       "\n",
       "[77745 rows x 9 columns]"
      ]
     },
     "execution_count": 14,
     "metadata": {},
     "output_type": "execute_result"
    }
   ],
   "source": [
    "# choose the rows from 'filtered_df' \"where station is NYC\"\n",
    "# make sure to put 'copy()' at the end to make pandas know that we create a separate copy\n",
    "\n",
    "df_nyc = filtered_df[filtered_df['station'] == 'NYC'].copy()\n",
    "df_nyc"
   ]
  },
  {
   "cell_type": "code",
   "execution_count": 15,
   "id": "6dc4fc1b",
   "metadata": {
    "scrolled": true
   },
   "outputs": [
    {
     "name": "stdout",
     "output_type": "stream",
     "text": [
      "<class 'pandas.core.frame.DataFrame'>\n",
      "Int64Index: 77745 entries, 314317 to 392135\n",
      "Data columns (total 9 columns):\n",
      " #   Column          Non-Null Count  Dtype \n",
      "---  ------          --------------  ----- \n",
      " 0   station         77745 non-null  object\n",
      " 1   time            77745 non-null  object\n",
      " 2   temp            77745 non-null  object\n",
      " 3   dew_point       77745 non-null  object\n",
      " 4   pressure        77745 non-null  object\n",
      " 5   wind_speed      77745 non-null  object\n",
      " 6   wind_direction  77745 non-null  object\n",
      " 7   precip_hour     77745 non-null  object\n",
      " 8   weather_codes   77745 non-null  object\n",
      "dtypes: object(9)\n",
      "memory usage: 5.9+ MB\n"
     ]
    }
   ],
   "source": [
    "df_nyc.info()"
   ]
  },
  {
   "cell_type": "code",
   "execution_count": 16,
   "id": "54f3bb3c",
   "metadata": {},
   "outputs": [
    {
     "name": "stdout",
     "output_type": "stream",
     "text": [
      "33.98\n",
      "<class 'str'>\n"
     ]
    }
   ],
   "source": [
    "# test the first entry of 'temp' column for its data type\n",
    "\n",
    "print(df_nyc.iloc[0,2])\n",
    "print(type(df_nyc.iloc[0,2]))"
   ]
  },
  {
   "cell_type": "code",
   "execution_count": 17,
   "id": "5e8805d1",
   "metadata": {},
   "outputs": [
    {
     "name": "stdout",
     "output_type": "stream",
     "text": [
      "2010-01-01 00:51\n",
      "<class 'str'>\n"
     ]
    }
   ],
   "source": [
    "# test the first entry of 'time' column for its data type\n",
    "\n",
    "print(df_nyc.iloc[0,1])\n",
    "print(type(df_nyc.iloc[0,1]))"
   ]
  },
  {
   "cell_type": "markdown",
   "id": "6a1dad27",
   "metadata": {
    "slideshow": null
   },
   "source": [
    "Seasonal features are nice because they are relatively safe to extrapolate into the future. There are two ways to handle seasonality.  \n",
    "\n",
    "The simplest (and perhaps most robust) is to have a set of indicator variables. That is, make the assumption that the temperature at any given time is a function of only the month of the year and the hour of the day, and use that to predict the temperature value.\n",
    "\n",
    "**Question**: Should month be a continuous or categorical variable?  (Recall that [one-hot encoding](http://scikit-learn.org/stable/modules/generated/sklearn.preprocessing.OneHotEncoder.html) is useful to deal with categorical variables.)\n",
    "\n",
    "Build a model to predict the temperature for a given hour in a given month in New York."
   ]
  },
  {
   "cell_type": "markdown",
   "id": "fbec1c03",
   "metadata": {
    "slideshow": null
   },
   "source": [
    "The grader will provide a DataFrame in the same format as `pd.read_csv` provided.  All of the temperature data will be redacted.  As long as your model accepts DataFrame input, you should be able to run the grader line below as-is.  If your model is expecting a different input, you will need to write an adapter function."
   ]
  },
  {
   "cell_type": "code",
   "execution_count": 18,
   "id": "97e56ace",
   "metadata": {},
   "outputs": [],
   "source": [
    "from sklearn import base\n",
    "\n",
    "class AdapterFunction(base.BaseEstimator, base.TransformerMixin):\n",
    "    \"\"\"Convert dataframe's 'time' column from string to datetime\"\"\"\n",
    "\n",
    "    def fit(self, X, y=None):\n",
    "        return self\n",
    "    \n",
    "    \n",
    "    def transform(self, X):\n",
    "        X['time'] = pd.to_datetime(X['time'])               # change the data type of 'time' column from object to datetime\n",
    "        return X['time']                                    # just assign the result to any variable      \n"
   ]
  },
  {
   "cell_type": "code",
   "execution_count": 19,
   "id": "0d3e9b25",
   "metadata": {},
   "outputs": [
    {
     "name": "stdout",
     "output_type": "stream",
     "text": [
      "<class 'str'>\n",
      "\n",
      "0   2023-07-31 12:34:56\n",
      "1   2023-07-31 15:45:00\n",
      "2   2023-07-31 18:15:30\n",
      "Name: time, dtype: datetime64[ns]\n",
      "\n",
      "<class 'pandas._libs.tslibs.timestamps.Timestamp'>\n"
     ]
    }
   ],
   "source": [
    "# test the AdapterFunction\n",
    "\n",
    "# sample data\n",
    "data = pd.DataFrame({'time': ['2023-07-31 12:34:56', '2023-07-31 15:45:00', '2023-07-31 18:15:30']})\n",
    "\n",
    "# instantiate the AdapterFunction\n",
    "adapter = AdapterFunction()\n",
    "\n",
    "# use fit_transform to transform the 'time' column\n",
    "transformed_time = adapter.fit_transform(data)\n",
    "\n",
    "print(type('2023-07-31 12:34:56'))\n",
    "print()\n",
    "print(transformed_time)\n",
    "print()\n",
    "print(type(transformed_time[0]))"
   ]
  },
  {
   "cell_type": "code",
   "execution_count": 20,
   "id": "439f716a",
   "metadata": {},
   "outputs": [
    {
     "name": "stdout",
     "output_type": "stream",
     "text": [
      "0   2023-07-31 12:34:56\n",
      "1   2023-07-31 15:45:00\n",
      "2   2023-07-31 18:15:30\n",
      "Name: time, dtype: datetime64[ns]\n",
      "\n",
      "0    7\n",
      "1    7\n",
      "2    7\n",
      "Name: time, dtype: int64\n",
      "\n",
      "0    12\n",
      "1    15\n",
      "2    18\n",
      "Name: time, dtype: int64\n"
     ]
    }
   ],
   "source": [
    "# some other tests on Timestamp objects\n",
    "\n",
    "print(transformed_time)\n",
    "print()\n",
    "print(transformed_time.dt.month)\n",
    "print()\n",
    "print(transformed_time.dt.hour)"
   ]
  },
  {
   "cell_type": "code",
   "execution_count": 21,
   "id": "d5e2ce9a",
   "metadata": {},
   "outputs": [],
   "source": [
    "class MonthSelector(base.BaseEstimator, base.TransformerMixin):\n",
    "    \"\"\"Get the month value from the datetime object\"\"\"\n",
    "\n",
    "    def fit(self, X, y=None):\n",
    "        return self\n",
    "    \n",
    "    \n",
    "    def transform(self, X):                      \n",
    "        return X.dt.month.array.reshape(-1,1)         # why it's X and not X['time'], because X is series\n",
    "                                                      # convert it to array, then reshape it from 1D to 2D"
   ]
  },
  {
   "cell_type": "code",
   "execution_count": 22,
   "id": "394cbf76",
   "metadata": {
    "scrolled": true
   },
   "outputs": [
    {
     "name": "stdout",
     "output_type": "stream",
     "text": [
      "0   2023-07-31 12:34:56\n",
      "1   2023-08-15 15:45:00\n",
      "2   2023-09-21 18:15:30\n",
      "Name: time, dtype: datetime64[ns]\n",
      "\n",
      "(3,)\n",
      "\n",
      "<PandasArray>\n",
      "[\n",
      "[7],\n",
      "[8],\n",
      "[9]\n",
      "]\n",
      "Shape: (3, 1), dtype: int64\n",
      "<PandasArray>\n",
      "[\n",
      "[7],\n",
      "[8],\n",
      "[9]\n",
      "]\n",
      "Shape: (3, 1), dtype: int64\n"
     ]
    }
   ],
   "source": [
    "# test the MonthSelector\n",
    "\n",
    "# sample data with a datetime column\n",
    "data = {'time': ['2023-07-31 12:34:56', '2023-08-15 15:45:00', '2023-09-21 18:15:30']}\n",
    "dff = pd.DataFrame(data)\n",
    "dff['time'] = pd.to_datetime(dff['time'])\n",
    "\n",
    "# instantiate the MonthSelector class\n",
    "month_selector = MonthSelector()\n",
    "\n",
    "# accessing the month component using .dt.month\n",
    "month_values = month_selector.transform(dff['time'])\n",
    "\n",
    "print(dff['time'])\n",
    "print()\n",
    "print(dff['time'].shape)\n",
    "print()\n",
    "print(month_values)                     # print the month values\n",
    "print(month_values.reshape(-1,1))       # print the reshaped month values"
   ]
  },
  {
   "cell_type": "code",
   "execution_count": 23,
   "id": "7dda9c1a",
   "metadata": {},
   "outputs": [
    {
     "data": {
      "text/plain": [
       "array([[1],\n",
       "       [2],\n",
       "       [3],\n",
       "       [4]])"
      ]
     },
     "execution_count": 23,
     "metadata": {},
     "output_type": "execute_result"
    }
   ],
   "source": [
    "a = np.array([1,2,3,4])\n",
    "a.reshape(-1,1)"
   ]
  },
  {
   "cell_type": "code",
   "execution_count": 24,
   "id": "21208e1d",
   "metadata": {},
   "outputs": [],
   "source": [
    "class HourSelector(base.BaseEstimator, base.TransformerMixin):\n",
    "    \"\"\"Get the hour value from the datetime object\"\"\"\n",
    "\n",
    "    def fit(self, X, y=None):\n",
    "        return self\n",
    "    \n",
    "    def transform(self, X):\n",
    "        return X.dt.hour.array.reshape(-1,1)"
   ]
  },
  {
   "cell_type": "code",
   "execution_count": 25,
   "id": "15efccd7",
   "metadata": {},
   "outputs": [],
   "source": [
    "from sklearn.linear_model import LinearRegression\n",
    "from sklearn.pipeline import Pipeline\n",
    "from sklearn.pipeline import FeatureUnion\n",
    "from sklearn.preprocessing import OneHotEncoder\n",
    "\n",
    "# the idea of feature union is to do transformations in parallel\n",
    "\n",
    "union = FeatureUnion([\n",
    "                    ('monthselector', MonthSelector()),\n",
    "                    ('hourselector', HourSelector())\n",
    "                    ])\n",
    "\n",
    "# the idea of pipeline is to do transformations in order, and the prediction at the end\n",
    "\n",
    "nyc_model = Pipeline([\n",
    "                    ('adapter', AdapterFunction()),\n",
    "                    ('union', union),\n",
    "                    ('categorical', OneHotEncoder()),\n",
    "                    ('regressor', LinearRegression())\n",
    "                    ])\n"
   ]
  },
  {
   "cell_type": "code",
   "execution_count": 26,
   "id": "55bfc760",
   "metadata": {
    "scrolled": true
   },
   "outputs": [
    {
     "data": {
      "text/html": [
       "<style>#sk-container-id-1 {color: black;background-color: white;}#sk-container-id-1 pre{padding: 0;}#sk-container-id-1 div.sk-toggleable {background-color: white;}#sk-container-id-1 label.sk-toggleable__label {cursor: pointer;display: block;width: 100%;margin-bottom: 0;padding: 0.3em;box-sizing: border-box;text-align: center;}#sk-container-id-1 label.sk-toggleable__label-arrow:before {content: \"▸\";float: left;margin-right: 0.25em;color: #696969;}#sk-container-id-1 label.sk-toggleable__label-arrow:hover:before {color: black;}#sk-container-id-1 div.sk-estimator:hover label.sk-toggleable__label-arrow:before {color: black;}#sk-container-id-1 div.sk-toggleable__content {max-height: 0;max-width: 0;overflow: hidden;text-align: left;background-color: #f0f8ff;}#sk-container-id-1 div.sk-toggleable__content pre {margin: 0.2em;color: black;border-radius: 0.25em;background-color: #f0f8ff;}#sk-container-id-1 input.sk-toggleable__control:checked~div.sk-toggleable__content {max-height: 200px;max-width: 100%;overflow: auto;}#sk-container-id-1 input.sk-toggleable__control:checked~label.sk-toggleable__label-arrow:before {content: \"▾\";}#sk-container-id-1 div.sk-estimator input.sk-toggleable__control:checked~label.sk-toggleable__label {background-color: #d4ebff;}#sk-container-id-1 div.sk-label input.sk-toggleable__control:checked~label.sk-toggleable__label {background-color: #d4ebff;}#sk-container-id-1 input.sk-hidden--visually {border: 0;clip: rect(1px 1px 1px 1px);clip: rect(1px, 1px, 1px, 1px);height: 1px;margin: -1px;overflow: hidden;padding: 0;position: absolute;width: 1px;}#sk-container-id-1 div.sk-estimator {font-family: monospace;background-color: #f0f8ff;border: 1px dotted black;border-radius: 0.25em;box-sizing: border-box;margin-bottom: 0.5em;}#sk-container-id-1 div.sk-estimator:hover {background-color: #d4ebff;}#sk-container-id-1 div.sk-parallel-item::after {content: \"\";width: 100%;border-bottom: 1px solid gray;flex-grow: 1;}#sk-container-id-1 div.sk-label:hover label.sk-toggleable__label {background-color: #d4ebff;}#sk-container-id-1 div.sk-serial::before {content: \"\";position: absolute;border-left: 1px solid gray;box-sizing: border-box;top: 0;bottom: 0;left: 50%;z-index: 0;}#sk-container-id-1 div.sk-serial {display: flex;flex-direction: column;align-items: center;background-color: white;padding-right: 0.2em;padding-left: 0.2em;position: relative;}#sk-container-id-1 div.sk-item {position: relative;z-index: 1;}#sk-container-id-1 div.sk-parallel {display: flex;align-items: stretch;justify-content: center;background-color: white;position: relative;}#sk-container-id-1 div.sk-item::before, #sk-container-id-1 div.sk-parallel-item::before {content: \"\";position: absolute;border-left: 1px solid gray;box-sizing: border-box;top: 0;bottom: 0;left: 50%;z-index: -1;}#sk-container-id-1 div.sk-parallel-item {display: flex;flex-direction: column;z-index: 1;position: relative;background-color: white;}#sk-container-id-1 div.sk-parallel-item:first-child::after {align-self: flex-end;width: 50%;}#sk-container-id-1 div.sk-parallel-item:last-child::after {align-self: flex-start;width: 50%;}#sk-container-id-1 div.sk-parallel-item:only-child::after {width: 0;}#sk-container-id-1 div.sk-dashed-wrapped {border: 1px dashed gray;margin: 0 0.4em 0.5em 0.4em;box-sizing: border-box;padding-bottom: 0.4em;background-color: white;}#sk-container-id-1 div.sk-label label {font-family: monospace;font-weight: bold;display: inline-block;line-height: 1.2em;}#sk-container-id-1 div.sk-label-container {text-align: center;}#sk-container-id-1 div.sk-container {/* jupyter's `normalize.less` sets `[hidden] { display: none; }` but bootstrap.min.css set `[hidden] { display: none !important; }` so we also need the `!important` here to be able to override the default hidden behavior on the sphinx rendered scikit-learn.org. See: https://github.com/scikit-learn/scikit-learn/issues/21755 */display: inline-block !important;position: relative;}#sk-container-id-1 div.sk-text-repr-fallback {display: none;}</style><div id=\"sk-container-id-1\" class=\"sk-top-container\"><div class=\"sk-text-repr-fallback\"><pre>Pipeline(steps=[(&#x27;adapter&#x27;, AdapterFunction()),\n",
       "                (&#x27;union&#x27;,\n",
       "                 FeatureUnion(transformer_list=[(&#x27;monthselector&#x27;,\n",
       "                                                 MonthSelector()),\n",
       "                                                (&#x27;hourselector&#x27;,\n",
       "                                                 HourSelector())])),\n",
       "                (&#x27;categorical&#x27;, OneHotEncoder()),\n",
       "                (&#x27;regressor&#x27;, LinearRegression())])</pre><b>In a Jupyter environment, please rerun this cell to show the HTML representation or trust the notebook. <br />On GitHub, the HTML representation is unable to render, please try loading this page with nbviewer.org.</b></div><div class=\"sk-container\" hidden><div class=\"sk-item sk-dashed-wrapped\"><div class=\"sk-label-container\"><div class=\"sk-label sk-toggleable\"><input class=\"sk-toggleable__control sk-hidden--visually\" id=\"sk-estimator-id-1\" type=\"checkbox\" ><label for=\"sk-estimator-id-1\" class=\"sk-toggleable__label sk-toggleable__label-arrow\">Pipeline</label><div class=\"sk-toggleable__content\"><pre>Pipeline(steps=[(&#x27;adapter&#x27;, AdapterFunction()),\n",
       "                (&#x27;union&#x27;,\n",
       "                 FeatureUnion(transformer_list=[(&#x27;monthselector&#x27;,\n",
       "                                                 MonthSelector()),\n",
       "                                                (&#x27;hourselector&#x27;,\n",
       "                                                 HourSelector())])),\n",
       "                (&#x27;categorical&#x27;, OneHotEncoder()),\n",
       "                (&#x27;regressor&#x27;, LinearRegression())])</pre></div></div></div><div class=\"sk-serial\"><div class=\"sk-item\"><div class=\"sk-estimator sk-toggleable\"><input class=\"sk-toggleable__control sk-hidden--visually\" id=\"sk-estimator-id-2\" type=\"checkbox\" ><label for=\"sk-estimator-id-2\" class=\"sk-toggleable__label sk-toggleable__label-arrow\">AdapterFunction</label><div class=\"sk-toggleable__content\"><pre>AdapterFunction()</pre></div></div></div><div class=\"sk-item sk-dashed-wrapped\"><div class=\"sk-label-container\"><div class=\"sk-label sk-toggleable\"><input class=\"sk-toggleable__control sk-hidden--visually\" id=\"sk-estimator-id-3\" type=\"checkbox\" ><label for=\"sk-estimator-id-3\" class=\"sk-toggleable__label sk-toggleable__label-arrow\">union: FeatureUnion</label><div class=\"sk-toggleable__content\"><pre>FeatureUnion(transformer_list=[(&#x27;monthselector&#x27;, MonthSelector()),\n",
       "                               (&#x27;hourselector&#x27;, HourSelector())])</pre></div></div></div><div class=\"sk-parallel\"><div class=\"sk-parallel-item\"><div class=\"sk-item\"><div class=\"sk-label-container\"><div class=\"sk-label sk-toggleable\"><label>monthselector</label></div></div><div class=\"sk-serial\"><div class=\"sk-item\"><div class=\"sk-estimator sk-toggleable\"><input class=\"sk-toggleable__control sk-hidden--visually\" id=\"sk-estimator-id-4\" type=\"checkbox\" ><label for=\"sk-estimator-id-4\" class=\"sk-toggleable__label sk-toggleable__label-arrow\">MonthSelector</label><div class=\"sk-toggleable__content\"><pre>MonthSelector()</pre></div></div></div></div></div></div><div class=\"sk-parallel-item\"><div class=\"sk-item\"><div class=\"sk-label-container\"><div class=\"sk-label sk-toggleable\"><label>hourselector</label></div></div><div class=\"sk-serial\"><div class=\"sk-item\"><div class=\"sk-estimator sk-toggleable\"><input class=\"sk-toggleable__control sk-hidden--visually\" id=\"sk-estimator-id-5\" type=\"checkbox\" ><label for=\"sk-estimator-id-5\" class=\"sk-toggleable__label sk-toggleable__label-arrow\">HourSelector</label><div class=\"sk-toggleable__content\"><pre>HourSelector()</pre></div></div></div></div></div></div></div></div><div class=\"sk-item\"><div class=\"sk-estimator sk-toggleable\"><input class=\"sk-toggleable__control sk-hidden--visually\" id=\"sk-estimator-id-6\" type=\"checkbox\" ><label for=\"sk-estimator-id-6\" class=\"sk-toggleable__label sk-toggleable__label-arrow\">OneHotEncoder</label><div class=\"sk-toggleable__content\"><pre>OneHotEncoder()</pre></div></div></div><div class=\"sk-item\"><div class=\"sk-estimator sk-toggleable\"><input class=\"sk-toggleable__control sk-hidden--visually\" id=\"sk-estimator-id-7\" type=\"checkbox\" ><label for=\"sk-estimator-id-7\" class=\"sk-toggleable__label sk-toggleable__label-arrow\">LinearRegression</label><div class=\"sk-toggleable__content\"><pre>LinearRegression()</pre></div></div></div></div></div></div></div>"
      ],
      "text/plain": [
       "Pipeline(steps=[('adapter', AdapterFunction()),\n",
       "                ('union',\n",
       "                 FeatureUnion(transformer_list=[('monthselector',\n",
       "                                                 MonthSelector()),\n",
       "                                                ('hourselector',\n",
       "                                                 HourSelector())])),\n",
       "                ('categorical', OneHotEncoder()),\n",
       "                ('regressor', LinearRegression())])"
      ]
     },
     "execution_count": 26,
     "metadata": {},
     "output_type": "execute_result"
    }
   ],
   "source": [
    "y = df_nyc['temp'].astype(float)              # 'temp' column values are in a 'string' data type \n",
    "                                              # convert 'temp' column to 'float' to be able to predict it\n",
    "\n",
    "nyc_model.fit(df_nyc, y)                      # X will be raw data, in this case the filtered 'df_nyc' data frame\n",
    "                                              # y will be the 'temp' column from the filtered 'df_nyc' data frame"
   ]
  },
  {
   "cell_type": "code",
   "execution_count": 27,
   "id": "20298d94",
   "metadata": {
    "slideshow": null
   },
   "outputs": [
    {
     "name": "stdout",
     "output_type": "stream",
     "text": [
      "==================\n",
      "Your score: 1.0000\n",
      "==================\n"
     ]
    }
   ],
   "source": [
    "grader.score('ts__one_city_model', nyc_model.predict)"
   ]
  },
  {
   "cell_type": "markdown",
   "id": "60be610f",
   "metadata": {
    "slideshow": null
   },
   "source": [
    "## Per-city model"
   ]
  },
  {
   "cell_type": "markdown",
   "id": "70b6465e",
   "metadata": {
    "slideshow": null
   },
   "source": [
    "Now we want to extend this same model to handle all of the cities in our data set.  Rather than adding features to the existing model to handle this, we'll just make a new copy of the model for each city.\n",
    "\n",
    "If your model is a single class, then this is easy&mdash;you can just instantiate your class once per city.  But it's more likely your model was a particular instance of a Pipeline.  If that's the case, make a **factory function** that returns a new copy of that Pipeline each time it's called."
   ]
  },
  {
   "cell_type": "code",
   "execution_count": 28,
   "id": "ded992b9",
   "metadata": {
    "slideshow": null
   },
   "outputs": [],
   "source": [
    "def season_factory():     \n",
    "    \n",
    "    union = FeatureUnion([\n",
    "                    ('monthselector', MonthSelector()),\n",
    "                    ('hourselector', HourSelector())\n",
    "                    ])\n",
    "\n",
    "    \n",
    "    model = Pipeline([\n",
    "                    ('adapter', AdapterFunction()),\n",
    "                    ('union', union),\n",
    "                    ('categorical', OneHotEncoder()),\n",
    "                    ('regressor', LinearRegression())\n",
    "                    ])           \n",
    "\n",
    "    return model"
   ]
  },
  {
   "cell_type": "code",
   "execution_count": 29,
   "id": "b4c3489a",
   "metadata": {
    "scrolled": false
   },
   "outputs": [
    {
     "data": {
      "text/html": [
       "<style>#sk-container-id-2 {color: black;background-color: white;}#sk-container-id-2 pre{padding: 0;}#sk-container-id-2 div.sk-toggleable {background-color: white;}#sk-container-id-2 label.sk-toggleable__label {cursor: pointer;display: block;width: 100%;margin-bottom: 0;padding: 0.3em;box-sizing: border-box;text-align: center;}#sk-container-id-2 label.sk-toggleable__label-arrow:before {content: \"▸\";float: left;margin-right: 0.25em;color: #696969;}#sk-container-id-2 label.sk-toggleable__label-arrow:hover:before {color: black;}#sk-container-id-2 div.sk-estimator:hover label.sk-toggleable__label-arrow:before {color: black;}#sk-container-id-2 div.sk-toggleable__content {max-height: 0;max-width: 0;overflow: hidden;text-align: left;background-color: #f0f8ff;}#sk-container-id-2 div.sk-toggleable__content pre {margin: 0.2em;color: black;border-radius: 0.25em;background-color: #f0f8ff;}#sk-container-id-2 input.sk-toggleable__control:checked~div.sk-toggleable__content {max-height: 200px;max-width: 100%;overflow: auto;}#sk-container-id-2 input.sk-toggleable__control:checked~label.sk-toggleable__label-arrow:before {content: \"▾\";}#sk-container-id-2 div.sk-estimator input.sk-toggleable__control:checked~label.sk-toggleable__label {background-color: #d4ebff;}#sk-container-id-2 div.sk-label input.sk-toggleable__control:checked~label.sk-toggleable__label {background-color: #d4ebff;}#sk-container-id-2 input.sk-hidden--visually {border: 0;clip: rect(1px 1px 1px 1px);clip: rect(1px, 1px, 1px, 1px);height: 1px;margin: -1px;overflow: hidden;padding: 0;position: absolute;width: 1px;}#sk-container-id-2 div.sk-estimator {font-family: monospace;background-color: #f0f8ff;border: 1px dotted black;border-radius: 0.25em;box-sizing: border-box;margin-bottom: 0.5em;}#sk-container-id-2 div.sk-estimator:hover {background-color: #d4ebff;}#sk-container-id-2 div.sk-parallel-item::after {content: \"\";width: 100%;border-bottom: 1px solid gray;flex-grow: 1;}#sk-container-id-2 div.sk-label:hover label.sk-toggleable__label {background-color: #d4ebff;}#sk-container-id-2 div.sk-serial::before {content: \"\";position: absolute;border-left: 1px solid gray;box-sizing: border-box;top: 0;bottom: 0;left: 50%;z-index: 0;}#sk-container-id-2 div.sk-serial {display: flex;flex-direction: column;align-items: center;background-color: white;padding-right: 0.2em;padding-left: 0.2em;position: relative;}#sk-container-id-2 div.sk-item {position: relative;z-index: 1;}#sk-container-id-2 div.sk-parallel {display: flex;align-items: stretch;justify-content: center;background-color: white;position: relative;}#sk-container-id-2 div.sk-item::before, #sk-container-id-2 div.sk-parallel-item::before {content: \"\";position: absolute;border-left: 1px solid gray;box-sizing: border-box;top: 0;bottom: 0;left: 50%;z-index: -1;}#sk-container-id-2 div.sk-parallel-item {display: flex;flex-direction: column;z-index: 1;position: relative;background-color: white;}#sk-container-id-2 div.sk-parallel-item:first-child::after {align-self: flex-end;width: 50%;}#sk-container-id-2 div.sk-parallel-item:last-child::after {align-self: flex-start;width: 50%;}#sk-container-id-2 div.sk-parallel-item:only-child::after {width: 0;}#sk-container-id-2 div.sk-dashed-wrapped {border: 1px dashed gray;margin: 0 0.4em 0.5em 0.4em;box-sizing: border-box;padding-bottom: 0.4em;background-color: white;}#sk-container-id-2 div.sk-label label {font-family: monospace;font-weight: bold;display: inline-block;line-height: 1.2em;}#sk-container-id-2 div.sk-label-container {text-align: center;}#sk-container-id-2 div.sk-container {/* jupyter's `normalize.less` sets `[hidden] { display: none; }` but bootstrap.min.css set `[hidden] { display: none !important; }` so we also need the `!important` here to be able to override the default hidden behavior on the sphinx rendered scikit-learn.org. See: https://github.com/scikit-learn/scikit-learn/issues/21755 */display: inline-block !important;position: relative;}#sk-container-id-2 div.sk-text-repr-fallback {display: none;}</style><div id=\"sk-container-id-2\" class=\"sk-top-container\"><div class=\"sk-text-repr-fallback\"><pre>Pipeline(steps=[(&#x27;adapter&#x27;, AdapterFunction()),\n",
       "                (&#x27;union&#x27;,\n",
       "                 FeatureUnion(transformer_list=[(&#x27;monthselector&#x27;,\n",
       "                                                 MonthSelector()),\n",
       "                                                (&#x27;hourselector&#x27;,\n",
       "                                                 HourSelector())])),\n",
       "                (&#x27;categorical&#x27;, OneHotEncoder()),\n",
       "                (&#x27;regressor&#x27;, LinearRegression())])</pre><b>In a Jupyter environment, please rerun this cell to show the HTML representation or trust the notebook. <br />On GitHub, the HTML representation is unable to render, please try loading this page with nbviewer.org.</b></div><div class=\"sk-container\" hidden><div class=\"sk-item sk-dashed-wrapped\"><div class=\"sk-label-container\"><div class=\"sk-label sk-toggleable\"><input class=\"sk-toggleable__control sk-hidden--visually\" id=\"sk-estimator-id-8\" type=\"checkbox\" ><label for=\"sk-estimator-id-8\" class=\"sk-toggleable__label sk-toggleable__label-arrow\">Pipeline</label><div class=\"sk-toggleable__content\"><pre>Pipeline(steps=[(&#x27;adapter&#x27;, AdapterFunction()),\n",
       "                (&#x27;union&#x27;,\n",
       "                 FeatureUnion(transformer_list=[(&#x27;monthselector&#x27;,\n",
       "                                                 MonthSelector()),\n",
       "                                                (&#x27;hourselector&#x27;,\n",
       "                                                 HourSelector())])),\n",
       "                (&#x27;categorical&#x27;, OneHotEncoder()),\n",
       "                (&#x27;regressor&#x27;, LinearRegression())])</pre></div></div></div><div class=\"sk-serial\"><div class=\"sk-item\"><div class=\"sk-estimator sk-toggleable\"><input class=\"sk-toggleable__control sk-hidden--visually\" id=\"sk-estimator-id-9\" type=\"checkbox\" ><label for=\"sk-estimator-id-9\" class=\"sk-toggleable__label sk-toggleable__label-arrow\">AdapterFunction</label><div class=\"sk-toggleable__content\"><pre>AdapterFunction()</pre></div></div></div><div class=\"sk-item sk-dashed-wrapped\"><div class=\"sk-label-container\"><div class=\"sk-label sk-toggleable\"><input class=\"sk-toggleable__control sk-hidden--visually\" id=\"sk-estimator-id-10\" type=\"checkbox\" ><label for=\"sk-estimator-id-10\" class=\"sk-toggleable__label sk-toggleable__label-arrow\">union: FeatureUnion</label><div class=\"sk-toggleable__content\"><pre>FeatureUnion(transformer_list=[(&#x27;monthselector&#x27;, MonthSelector()),\n",
       "                               (&#x27;hourselector&#x27;, HourSelector())])</pre></div></div></div><div class=\"sk-parallel\"><div class=\"sk-parallel-item\"><div class=\"sk-item\"><div class=\"sk-label-container\"><div class=\"sk-label sk-toggleable\"><label>monthselector</label></div></div><div class=\"sk-serial\"><div class=\"sk-item\"><div class=\"sk-estimator sk-toggleable\"><input class=\"sk-toggleable__control sk-hidden--visually\" id=\"sk-estimator-id-11\" type=\"checkbox\" ><label for=\"sk-estimator-id-11\" class=\"sk-toggleable__label sk-toggleable__label-arrow\">MonthSelector</label><div class=\"sk-toggleable__content\"><pre>MonthSelector()</pre></div></div></div></div></div></div><div class=\"sk-parallel-item\"><div class=\"sk-item\"><div class=\"sk-label-container\"><div class=\"sk-label sk-toggleable\"><label>hourselector</label></div></div><div class=\"sk-serial\"><div class=\"sk-item\"><div class=\"sk-estimator sk-toggleable\"><input class=\"sk-toggleable__control sk-hidden--visually\" id=\"sk-estimator-id-12\" type=\"checkbox\" ><label for=\"sk-estimator-id-12\" class=\"sk-toggleable__label sk-toggleable__label-arrow\">HourSelector</label><div class=\"sk-toggleable__content\"><pre>HourSelector()</pre></div></div></div></div></div></div></div></div><div class=\"sk-item\"><div class=\"sk-estimator sk-toggleable\"><input class=\"sk-toggleable__control sk-hidden--visually\" id=\"sk-estimator-id-13\" type=\"checkbox\" ><label for=\"sk-estimator-id-13\" class=\"sk-toggleable__label sk-toggleable__label-arrow\">OneHotEncoder</label><div class=\"sk-toggleable__content\"><pre>OneHotEncoder()</pre></div></div></div><div class=\"sk-item\"><div class=\"sk-estimator sk-toggleable\"><input class=\"sk-toggleable__control sk-hidden--visually\" id=\"sk-estimator-id-14\" type=\"checkbox\" ><label for=\"sk-estimator-id-14\" class=\"sk-toggleable__label sk-toggleable__label-arrow\">LinearRegression</label><div class=\"sk-toggleable__content\"><pre>LinearRegression()</pre></div></div></div></div></div></div></div>"
      ],
      "text/plain": [
       "Pipeline(steps=[('adapter', AdapterFunction()),\n",
       "                ('union',\n",
       "                 FeatureUnion(transformer_list=[('monthselector',\n",
       "                                                 MonthSelector()),\n",
       "                                                ('hourselector',\n",
       "                                                 HourSelector())])),\n",
       "                ('categorical', OneHotEncoder()),\n",
       "                ('regressor', LinearRegression())])"
      ]
     },
     "execution_count": 29,
     "metadata": {},
     "output_type": "execute_result"
    }
   ],
   "source": [
    "season_factory()"
   ]
  },
  {
   "cell_type": "code",
   "execution_count": 30,
   "id": "af26d083",
   "metadata": {
    "scrolled": true
   },
   "outputs": [
    {
     "data": {
      "text/html": [
       "<style>#sk-container-id-3 {color: black;background-color: white;}#sk-container-id-3 pre{padding: 0;}#sk-container-id-3 div.sk-toggleable {background-color: white;}#sk-container-id-3 label.sk-toggleable__label {cursor: pointer;display: block;width: 100%;margin-bottom: 0;padding: 0.3em;box-sizing: border-box;text-align: center;}#sk-container-id-3 label.sk-toggleable__label-arrow:before {content: \"▸\";float: left;margin-right: 0.25em;color: #696969;}#sk-container-id-3 label.sk-toggleable__label-arrow:hover:before {color: black;}#sk-container-id-3 div.sk-estimator:hover label.sk-toggleable__label-arrow:before {color: black;}#sk-container-id-3 div.sk-toggleable__content {max-height: 0;max-width: 0;overflow: hidden;text-align: left;background-color: #f0f8ff;}#sk-container-id-3 div.sk-toggleable__content pre {margin: 0.2em;color: black;border-radius: 0.25em;background-color: #f0f8ff;}#sk-container-id-3 input.sk-toggleable__control:checked~div.sk-toggleable__content {max-height: 200px;max-width: 100%;overflow: auto;}#sk-container-id-3 input.sk-toggleable__control:checked~label.sk-toggleable__label-arrow:before {content: \"▾\";}#sk-container-id-3 div.sk-estimator input.sk-toggleable__control:checked~label.sk-toggleable__label {background-color: #d4ebff;}#sk-container-id-3 div.sk-label input.sk-toggleable__control:checked~label.sk-toggleable__label {background-color: #d4ebff;}#sk-container-id-3 input.sk-hidden--visually {border: 0;clip: rect(1px 1px 1px 1px);clip: rect(1px, 1px, 1px, 1px);height: 1px;margin: -1px;overflow: hidden;padding: 0;position: absolute;width: 1px;}#sk-container-id-3 div.sk-estimator {font-family: monospace;background-color: #f0f8ff;border: 1px dotted black;border-radius: 0.25em;box-sizing: border-box;margin-bottom: 0.5em;}#sk-container-id-3 div.sk-estimator:hover {background-color: #d4ebff;}#sk-container-id-3 div.sk-parallel-item::after {content: \"\";width: 100%;border-bottom: 1px solid gray;flex-grow: 1;}#sk-container-id-3 div.sk-label:hover label.sk-toggleable__label {background-color: #d4ebff;}#sk-container-id-3 div.sk-serial::before {content: \"\";position: absolute;border-left: 1px solid gray;box-sizing: border-box;top: 0;bottom: 0;left: 50%;z-index: 0;}#sk-container-id-3 div.sk-serial {display: flex;flex-direction: column;align-items: center;background-color: white;padding-right: 0.2em;padding-left: 0.2em;position: relative;}#sk-container-id-3 div.sk-item {position: relative;z-index: 1;}#sk-container-id-3 div.sk-parallel {display: flex;align-items: stretch;justify-content: center;background-color: white;position: relative;}#sk-container-id-3 div.sk-item::before, #sk-container-id-3 div.sk-parallel-item::before {content: \"\";position: absolute;border-left: 1px solid gray;box-sizing: border-box;top: 0;bottom: 0;left: 50%;z-index: -1;}#sk-container-id-3 div.sk-parallel-item {display: flex;flex-direction: column;z-index: 1;position: relative;background-color: white;}#sk-container-id-3 div.sk-parallel-item:first-child::after {align-self: flex-end;width: 50%;}#sk-container-id-3 div.sk-parallel-item:last-child::after {align-self: flex-start;width: 50%;}#sk-container-id-3 div.sk-parallel-item:only-child::after {width: 0;}#sk-container-id-3 div.sk-dashed-wrapped {border: 1px dashed gray;margin: 0 0.4em 0.5em 0.4em;box-sizing: border-box;padding-bottom: 0.4em;background-color: white;}#sk-container-id-3 div.sk-label label {font-family: monospace;font-weight: bold;display: inline-block;line-height: 1.2em;}#sk-container-id-3 div.sk-label-container {text-align: center;}#sk-container-id-3 div.sk-container {/* jupyter's `normalize.less` sets `[hidden] { display: none; }` but bootstrap.min.css set `[hidden] { display: none !important; }` so we also need the `!important` here to be able to override the default hidden behavior on the sphinx rendered scikit-learn.org. See: https://github.com/scikit-learn/scikit-learn/issues/21755 */display: inline-block !important;position: relative;}#sk-container-id-3 div.sk-text-repr-fallback {display: none;}</style><div id=\"sk-container-id-3\" class=\"sk-top-container\"><div class=\"sk-text-repr-fallback\"><pre>Pipeline(steps=[(&#x27;adapter&#x27;, AdapterFunction()),\n",
       "                (&#x27;union&#x27;,\n",
       "                 FeatureUnion(transformer_list=[(&#x27;monthselector&#x27;,\n",
       "                                                 MonthSelector()),\n",
       "                                                (&#x27;hourselector&#x27;,\n",
       "                                                 HourSelector())])),\n",
       "                (&#x27;categorical&#x27;, OneHotEncoder()),\n",
       "                (&#x27;regressor&#x27;, LinearRegression())])</pre><b>In a Jupyter environment, please rerun this cell to show the HTML representation or trust the notebook. <br />On GitHub, the HTML representation is unable to render, please try loading this page with nbviewer.org.</b></div><div class=\"sk-container\" hidden><div class=\"sk-item sk-dashed-wrapped\"><div class=\"sk-label-container\"><div class=\"sk-label sk-toggleable\"><input class=\"sk-toggleable__control sk-hidden--visually\" id=\"sk-estimator-id-15\" type=\"checkbox\" ><label for=\"sk-estimator-id-15\" class=\"sk-toggleable__label sk-toggleable__label-arrow\">Pipeline</label><div class=\"sk-toggleable__content\"><pre>Pipeline(steps=[(&#x27;adapter&#x27;, AdapterFunction()),\n",
       "                (&#x27;union&#x27;,\n",
       "                 FeatureUnion(transformer_list=[(&#x27;monthselector&#x27;,\n",
       "                                                 MonthSelector()),\n",
       "                                                (&#x27;hourselector&#x27;,\n",
       "                                                 HourSelector())])),\n",
       "                (&#x27;categorical&#x27;, OneHotEncoder()),\n",
       "                (&#x27;regressor&#x27;, LinearRegression())])</pre></div></div></div><div class=\"sk-serial\"><div class=\"sk-item\"><div class=\"sk-estimator sk-toggleable\"><input class=\"sk-toggleable__control sk-hidden--visually\" id=\"sk-estimator-id-16\" type=\"checkbox\" ><label for=\"sk-estimator-id-16\" class=\"sk-toggleable__label sk-toggleable__label-arrow\">AdapterFunction</label><div class=\"sk-toggleable__content\"><pre>AdapterFunction()</pre></div></div></div><div class=\"sk-item sk-dashed-wrapped\"><div class=\"sk-label-container\"><div class=\"sk-label sk-toggleable\"><input class=\"sk-toggleable__control sk-hidden--visually\" id=\"sk-estimator-id-17\" type=\"checkbox\" ><label for=\"sk-estimator-id-17\" class=\"sk-toggleable__label sk-toggleable__label-arrow\">union: FeatureUnion</label><div class=\"sk-toggleable__content\"><pre>FeatureUnion(transformer_list=[(&#x27;monthselector&#x27;, MonthSelector()),\n",
       "                               (&#x27;hourselector&#x27;, HourSelector())])</pre></div></div></div><div class=\"sk-parallel\"><div class=\"sk-parallel-item\"><div class=\"sk-item\"><div class=\"sk-label-container\"><div class=\"sk-label sk-toggleable\"><label>monthselector</label></div></div><div class=\"sk-serial\"><div class=\"sk-item\"><div class=\"sk-estimator sk-toggleable\"><input class=\"sk-toggleable__control sk-hidden--visually\" id=\"sk-estimator-id-18\" type=\"checkbox\" ><label for=\"sk-estimator-id-18\" class=\"sk-toggleable__label sk-toggleable__label-arrow\">MonthSelector</label><div class=\"sk-toggleable__content\"><pre>MonthSelector()</pre></div></div></div></div></div></div><div class=\"sk-parallel-item\"><div class=\"sk-item\"><div class=\"sk-label-container\"><div class=\"sk-label sk-toggleable\"><label>hourselector</label></div></div><div class=\"sk-serial\"><div class=\"sk-item\"><div class=\"sk-estimator sk-toggleable\"><input class=\"sk-toggleable__control sk-hidden--visually\" id=\"sk-estimator-id-19\" type=\"checkbox\" ><label for=\"sk-estimator-id-19\" class=\"sk-toggleable__label sk-toggleable__label-arrow\">HourSelector</label><div class=\"sk-toggleable__content\"><pre>HourSelector()</pre></div></div></div></div></div></div></div></div><div class=\"sk-item\"><div class=\"sk-estimator sk-toggleable\"><input class=\"sk-toggleable__control sk-hidden--visually\" id=\"sk-estimator-id-20\" type=\"checkbox\" ><label for=\"sk-estimator-id-20\" class=\"sk-toggleable__label sk-toggleable__label-arrow\">OneHotEncoder</label><div class=\"sk-toggleable__content\"><pre>OneHotEncoder()</pre></div></div></div><div class=\"sk-item\"><div class=\"sk-estimator sk-toggleable\"><input class=\"sk-toggleable__control sk-hidden--visually\" id=\"sk-estimator-id-21\" type=\"checkbox\" ><label for=\"sk-estimator-id-21\" class=\"sk-toggleable__label sk-toggleable__label-arrow\">LinearRegression</label><div class=\"sk-toggleable__content\"><pre>LinearRegression()</pre></div></div></div></div></div></div></div>"
      ],
      "text/plain": [
       "Pipeline(steps=[('adapter', AdapterFunction()),\n",
       "                ('union',\n",
       "                 FeatureUnion(transformer_list=[('monthselector',\n",
       "                                                 MonthSelector()),\n",
       "                                                ('hourselector',\n",
       "                                                 HourSelector())])),\n",
       "                ('categorical', OneHotEncoder()),\n",
       "                ('regressor', LinearRegression())])"
      ]
     },
     "execution_count": 30,
     "metadata": {},
     "output_type": "execute_result"
    }
   ],
   "source": [
    "# test if the 'season_factory' function works for the previous 'nyc' dataset\n",
    "\n",
    "y = df_nyc['temp'].astype(float)\n",
    "season_factory().fit(df_nyc, y)"
   ]
  },
  {
   "cell_type": "code",
   "execution_count": 31,
   "id": "1b9dd1a6",
   "metadata": {},
   "outputs": [
    {
     "name": "stdout",
     "output_type": "stream",
     "text": [
      "==================\n",
      "Your score: 1.0000\n",
      "==================\n"
     ]
    }
   ],
   "source": [
    "# test if the 'season_factory' function works for the previous 'nyc' dataset\n",
    "\n",
    "grader.score('ts__one_city_model', season_factory().fit(df_nyc, y).predict)"
   ]
  },
  {
   "cell_type": "markdown",
   "id": "43367bad",
   "metadata": {
    "slideshow": null
   },
   "source": [
    "Calling this function should give a new copy of the Pipeline.  If we train that new copy on the New York data, it should give us the same model as before.  (You might check this by submitting such a model to the previous `grader.score` call.)\n",
    "\n",
    "While we could manually call this function for each city in our dataset, let's build a \"group-by\" estimator that does this for us.  This estimator should take a column name and a factory function as an argument.  The `fit` method will group the incoming data by that column, and for each group it will call the factory to create a new instance to be trained by on that group.  Then, the `predict` method should look up the corresponding model for each row and perform a predict using that model."
   ]
  },
  {
   "cell_type": "code",
   "execution_count": 32,
   "id": "33056a29",
   "metadata": {},
   "outputs": [
    {
     "data": {
      "text/plain": [
       "PHX     78618\n",
       "MSP     78599\n",
       "SFO     78530\n",
       "PHNL    78528\n",
       "NYC     77745\n",
       "Name: station, dtype: int64"
      ]
     },
     "execution_count": 32,
     "metadata": {},
     "output_type": "execute_result"
    }
   ],
   "source": [
    "# test the city names in 'filtered' dataframe, so it looks like there are 5 cities\n",
    "\n",
    "filtered_df['station'].value_counts()"
   ]
  },
  {
   "cell_type": "code",
   "execution_count": 57,
   "id": "fdae6b89",
   "metadata": {
    "slideshow": null
   },
   "outputs": [],
   "source": [
    "from sklearn import base\n",
    "\n",
    "class GroupbyEstimator(base.BaseEstimator, base.RegressorMixin):\n",
    "    \n",
    "    def __init__(self, column, estimator_factory):\n",
    "        # column is the value to group by; \n",
    "        # estimator_factory can be called to produce estimators\n",
    "        \n",
    "        self.column = column\n",
    "        self.estimator_factory = estimator_factory       \n",
    "        self.cities = {}\n",
    "        \n",
    "            \n",
    "    def fit(self, X, y):\n",
    "        # Create an estimator and fit it with the portion in each group\n",
    "        \n",
    "        valid_temp = (X.temp != 'M')       # store the rows that do not have 'M' for temperatures in 'valid_temp'\n",
    "        X = X[valid_temp]                  # keep rows only with the valid temps for feature columns\n",
    "        y = y[valid_temp]                  # do the same for target value\n",
    "        y = y.astype(float)                # convert the \n",
    "          \n",
    "        for city in X['station'].unique():                   # iterate over unique cities in X['station'] (5 cities)\n",
    "            self.cities[city] = self.estimator_factory()     # for every unique city apply season_factory     \n",
    "            city_name = (X['station'] == city)               # store every unique city to 'city_name'\n",
    "            new_x = X[city_name]                             # choose the rows with that 'city_name' in feature column\n",
    "            new_y = y[city_name]                             # do the same for target value to match the rows\n",
    "            self.cities[city].fit(new_x, new_y)              # fit the model \n",
    "        \n",
    "        return self\n",
    "\n",
    "\n",
    "    def predict(self, X):    \n",
    "        # Call the appropriate predict method for each row of X\n",
    "        \n",
    "        predictions = []                             \n",
    "        \n",
    "        for row in range(len(X)):\n",
    "            city = X.iloc[row].station\n",
    "            city_estimator = self.cities.get(city)  # get the estimator for the city\n",
    "            if city_estimator is not None:\n",
    "                prediction = city_estimator.predict(X.iloc[row:row+1])  # predict for the current row\n",
    "                predictions.append(prediction[0])\n",
    "            else:\n",
    "                predictions.append(None)  # Handle missing estimators\n",
    "        \n",
    "        return predictions\n",
    "    \n",
    "    \n",
    "    \n",
    "    \"\"\"\n",
    "def predict(self, X):\n",
    "        \n",
    "        predictions = []\n",
    "       \n",
    "        for row in range(len(X)):\n",
    "            city = X.iloc[row].station\n",
    "            predictions.append(self.cities[city].predict(X.iloc[row].array.reshape(-1,1)))\n",
    "         \n",
    "        return predictions\n",
    "\"\"\""
   ]
  },
  {
   "cell_type": "code",
   "execution_count": 33,
   "id": "4c06dd43",
   "metadata": {},
   "outputs": [],
   "source": [
    "from sklearn import base\n",
    "\n",
    "class GroupbyEstimator(base.BaseEstimator, base.RegressorMixin):\n",
    "    \n",
    "    def __init__(self, column, estimator_factory):\n",
    "        # column is the value to group by; \n",
    "        # estimator_factory can be called to produce estimators\n",
    "        \n",
    "        self.column = column\n",
    "        self.estimator_factory = estimator_factory       \n",
    "        self.cities = {}\n",
    "        \n",
    "            \n",
    "    def fit(self, X, y):\n",
    "        # Create an estimator and fit it with the portion in each group\n",
    "        \n",
    "        valid_temp = (X.temp != 'M')       # store the rows that do not have 'M' for temperatures in 'valid_temp'\n",
    "        \n",
    "        X = X[valid_temp]                  # keep rows only with the valid temps for feature columns\n",
    "        y = y[valid_temp]                  # do the same for target value\n",
    "        \n",
    "        y = y.astype(float)                # convert the temp column (target variable) to float from string\n",
    "        \n",
    "        \n",
    "        for city in X['station'].unique():                  # iterate over unique cities in X['station'] (5 cities)\n",
    "            self.cities[city] = self.estimator_factory()    # key for 'cities' dict is 'city' name, value is model     \n",
    "            city_name = (X['station'] == city)              # store every unique city to 'city_name'\n",
    "            new_x = X[city_name]                            # choose the rows with that 'city_name' in feature column\n",
    "            new_y = y[city_name]                            # do the same for target value to match the rows\n",
    "            self.cities[city].fit(new_x, new_y)             # fit the model \n",
    "        \n",
    "        return self\n",
    "\n",
    "\n",
    "    def predict(self, X):    \n",
    "        # Call the appropriate predict method for each row of X\n",
    "        \n",
    "        predictions = []                                    # create an empty list to store the future predictions         \n",
    "        \n",
    "        for row in range(len(X)):                           # iterate over all rows of raw dataframe 'df'\n",
    "            city = X.iloc[row].station                      # for every row store the city name in 'station' column to city \n",
    "            city_estimator = self.cities[city]              # assign the appropriate estimator to 'city_estimator' variable based on 'city' value\n",
    "            prediction = city_estimator.predict(X.iloc[row:row+1])  # make a prediction for current row ([row:row+1] means that row because row+1 is excluding, dataframe with one row)\n",
    "            predictions.append(prediction[0])               # prediction has only one element, that's why [0]                                          \n",
    " \n",
    "        return predictions\n",
    "    \n",
    "       \n",
    "#        for row in range(len(X)):\n",
    "#            city = X.iloc[row].station\n",
    "#            predictions.append(self.cities[city].predict(X.iloc[row].array.reshape(-1,1)))"
   ]
  },
  {
   "cell_type": "code",
   "execution_count": 78,
   "id": "825c0a1b",
   "metadata": {},
   "outputs": [
    {
     "data": {
      "text/plain": [
       "'PHX'"
      ]
     },
     "execution_count": 78,
     "metadata": {},
     "output_type": "execute_result"
    }
   ],
   "source": [
    "df.iloc[0]['station']"
   ]
  },
  {
   "cell_type": "markdown",
   "id": "3e02babc",
   "metadata": {
    "slideshow": null
   },
   "source": [
    "Now, we should be able to build an equivalent model for each city:"
   ]
  },
  {
   "cell_type": "code",
   "execution_count": 35,
   "id": "49186696",
   "metadata": {},
   "outputs": [],
   "source": [
    "pd.options.mode.chained_assignment = None  # default='warn'"
   ]
  },
  {
   "cell_type": "code",
   "execution_count": 36,
   "id": "877d55f6",
   "metadata": {
    "slideshow": null
   },
   "outputs": [],
   "source": [
    "season_model = GroupbyEstimator('station', season_factory).fit(df, df['temp'])"
   ]
  },
  {
   "cell_type": "markdown",
   "id": "e7c5cc8f",
   "metadata": {
    "slideshow": null
   },
   "source": [
    "Again, as long as this model accepts a DataFrame as input, you should be able to pass the `predict` method to the grader."
   ]
  },
  {
   "cell_type": "code",
   "execution_count": 37,
   "id": "d2345ae1",
   "metadata": {
    "slideshow": null
   },
   "outputs": [
    {
     "name": "stdout",
     "output_type": "stream",
     "text": [
      "==================\n",
      "Your score: 1.0000\n",
      "==================\n"
     ]
    }
   ],
   "source": [
    "grader.score('ts__month_hour_model', season_model.predict)"
   ]
  },
  {
   "cell_type": "code",
   "execution_count": 45,
   "id": "89e8370c",
   "metadata": {},
   "outputs": [
    {
     "data": {
      "text/plain": [
       "<bound method GroupbyEstimator.predict of GroupbyEstimator(column='station',\n",
       "                 estimator_factory=<function season_factory at 0x7fcea4a8add0>)>"
      ]
     },
     "execution_count": 45,
     "metadata": {},
     "output_type": "execute_result"
    }
   ],
   "source": [
    "predictions = season_model.predict\n",
    "predictions"
   ]
  },
  {
   "cell_type": "markdown",
   "id": "2e5748cb",
   "metadata": {
    "slideshow": null
   },
   "source": [
    "## Handling data in arbitrary order"
   ]
  },
  {
   "cell_type": "markdown",
   "id": "10fd8997",
   "metadata": {
    "slideshow": null
   },
   "source": [
    "Submit the same model again to the following scorer:"
   ]
  },
  {
   "cell_type": "code",
   "execution_count": 68,
   "id": "30ac3848",
   "metadata": {
    "slideshow": null
   },
   "outputs": [
    {
     "name": "stdout",
     "output_type": "stream",
     "text": [
      "==================\n",
      "Your score: 1.0000\n",
      "==================\n"
     ]
    }
   ],
   "source": [
    "grader.score('ts__shuffled_model', season_model.predict)"
   ]
  },
  {
   "cell_type": "markdown",
   "id": "847e067b",
   "metadata": {
    "slideshow": null
   },
   "source": [
    "If you passed, congratulations&mdash;you avoided a common pitfall!  Move on to the next question.\n",
    "\n",
    "But if your model suddenly behaved worse: In the previous question, we provided each city's rows in contiguous groups.  In this question, the rows were all shuffled together.  If you were predicting for a group at a time and just appending those grouped predictions for the final output, it'll be in the wrong order.\n",
    "\n",
    "There are two ways to fix this:\n",
    "1. Predict for each row individually.  This is straightforward, but very, _very_ slow.\n",
    "2. Predict for each group, and then reorder the predictions to match the input order.  A common way to do this is to attach the index of the feature matrix to the predictions, and then order the full prediction series by the index of the feature matrix.\n",
    "\n",
    "Once you've fixed your `GroupbyEstimator.predict` method, resubmit to this question."
   ]
  },
  {
   "cell_type": "code",
   "execution_count": 18,
   "id": "ff15c912",
   "metadata": {},
   "outputs": [
    {
     "data": {
      "text/plain": [
       "time\n",
       "2010-01-01 00:51:00    33.98\n",
       "2010-01-01 01:51:00    33.98\n",
       "2010-01-01 02:51:00    33.98\n",
       "2010-01-01 03:51:00    33.10\n",
       "2010-01-01 04:51:00    33.08\n",
       "Name: temp, dtype: float64"
      ]
     },
     "execution_count": 18,
     "metadata": {},
     "output_type": "execute_result"
    }
   ],
   "source": [
    "# set the first column ('time') as your index\n",
    "\n",
    "temps = df_nyc.set_index('time')['temp']\n",
    "temps.head()"
   ]
  },
  {
   "cell_type": "code",
   "execution_count": 67,
   "id": "8cbf80e7",
   "metadata": {
    "scrolled": true
   },
   "outputs": [
    {
     "data": {
      "image/png": "[encoded data removed]",
      "text/plain": [
       "<Figure size 640x480 with 1 Axes>"
      ]
     },
     "metadata": {},
     "output_type": "display_data"
    }
   ],
   "source": [
    "import matplotlib.pyplot as plt\n",
    "\n",
    "# plot all the temperatures in NYC\n",
    "\n",
    "temps.plot()\n",
    "plt.ylabel(\"Temperature\")\n",
    "plt.xlabel(\"Time\")\n",
    "plt.xticks(rotation=45);"
   ]
  },
  {
   "cell_type": "code",
   "execution_count": 21,
   "id": "9cb4ff70",
   "metadata": {},
   "outputs": [],
   "source": [
    "train_data = temps[:int(len(temps)*0.8)]             # choose 80% of the data in temps to be train_data\n",
    "valid_data = temps[int(len(temps)*0.8):]             # choose the remaining 20% of the data to be valid_data"
   ]
  },
  {
   "cell_type": "code",
   "execution_count": 22,
   "id": "c0a922d7",
   "metadata": {},
   "outputs": [
    {
     "name": "stdout",
     "output_type": "stream",
     "text": [
      "77745\n",
      "62196\n",
      "15549\n"
     ]
    }
   ],
   "source": [
    "# double the check the number of rows in 'temps' (total dataset), train_data, valid_data\n",
    "\n",
    "print(len(temps))\n",
    "\n",
    "print(len(train_data))\n",
    "print(len(valid_data))"
   ]
  },
  {
   "cell_type": "code",
   "execution_count": 23,
   "id": "b95a228c",
   "metadata": {},
   "outputs": [
    {
     "name": "stdout",
     "output_type": "stream",
     "text": [
      "2017-03-18 11:51:00\n",
      "2010-01-01 00:51:00\n",
      "2633\n"
     ]
    }
   ],
   "source": [
    "# check the first and the last date\n",
    "# find the difference between the first and last dates\n",
    "\n",
    "print(train_data.index[-1])\n",
    "print(train_data.index[0])\n",
    "print((train_data.index[-1] - train_data.index[0]).days)"
   ]
  },
  {
   "cell_type": "code",
   "execution_count": 43,
   "id": "1283ca59",
   "metadata": {},
   "outputs": [
    {
     "data": {
      "text/plain": [
       "55.52824908354235"
      ]
     },
     "execution_count": 43,
     "metadata": {},
     "output_type": "execute_result"
    }
   ],
   "source": [
    "# test the mean of the temps in train_data\n",
    "\n",
    "train_data.values.mean()"
   ]
  },
  {
   "cell_type": "code",
   "execution_count": 52,
   "id": "c9ea2e67",
   "metadata": {
    "scrolled": true
   },
   "outputs": [
    {
     "data": {
      "image/png": "[encoded data removed]",
      "text/plain": [
       "<Figure size 640x480 with 1 Axes>"
      ]
     },
     "metadata": {},
     "output_type": "display_data"
    }
   ],
   "source": [
    "# preprocessing step in Fast Fourier Transform to center signal around zero.\n",
    "# subtract the initial date from the final date. Get days from 'datetime' objects, divide by 365 to get years\n",
    "\n",
    "fft_counts = np.fft.fft(train_data.values - train_data.values.mean())\n",
    "yrs = (train_data.index[-1] - train_data.index[0]).days / 365.\n",
    "\n",
    "plt.plot(np.arange(len(fft_counts)) / yrs, np.abs(fft_counts)**2)\n",
    "plt.axis([0, 7.3, 0, 45e10])\n",
    "plt.xlabel('Freq (1/yrs)');"
   ]
  },
  {
   "cell_type": "code",
   "execution_count": 51,
   "id": "53a14e60",
   "metadata": {},
   "outputs": [
    {
     "name": "stdout",
     "output_type": "stream",
     "text": [
      "fft_counts: [ 7.73070497e-11    +0.j          2.97504292e+03-11783.45919161j\n",
      " -5.46587082e+04+39945.25699j    ... -4.38230254e+04 -4675.31487046j\n",
      " -5.46587082e+04-39945.25699j     2.97504292e+03+11783.45919161j]\n",
      "\n",
      "number of fft_counts: 62196\n",
      "\n",
      "years: 7.213698630136986\n"
     ]
    }
   ],
   "source": [
    "# check the values of fft_counts (the result of Fast Fourier Transform)\n",
    "\n",
    "print(f\"fft_counts: {fft_counts}\")\n",
    "print()\n",
    "print(f\"number of fft_counts: {len(fft_counts)}\")\n",
    "print()\n",
    "print(f\"years: {yrs}\")"
   ]
  },
  {
   "cell_type": "code",
   "execution_count": 77,
   "id": "c64167eb",
   "metadata": {},
   "outputs": [
    {
     "ename": "KeyError",
     "evalue": "'temp'",
     "output_type": "error",
     "traceback": [
      "\u001b[0;31m---------------------------------------------------------------------------\u001b[0m",
      "\u001b[0;31mValueError\u001b[0m                                Traceback (most recent call last)",
      "File \u001b[0;32m~/.local/lib/python3.10/site-packages/pandas/_libs/tslibs/parsing.pyx:442\u001b[0m, in \u001b[0;36mpandas._libs.tslibs.parsing.parse_datetime_string_with_reso\u001b[0;34m()\u001b[0m\n",
      "File \u001b[0;32m~/.local/lib/python3.10/site-packages/pandas/_libs/tslibs/parsing.pyx:652\u001b[0m, in \u001b[0;36mpandas._libs.tslibs.parsing.dateutil_parse\u001b[0;34m()\u001b[0m\n",
      "\u001b[0;31mValueError\u001b[0m: Unknown datetime string format, unable to parse: temp",
      "\nDuring handling of the above exception, another exception occurred:\n",
      "\u001b[0;31mDateParseError\u001b[0m                            Traceback (most recent call last)",
      "File \u001b[0;32m~/.local/lib/python3.10/site-packages/pandas/core/indexes/datetimes.py:704\u001b[0m, in \u001b[0;36mDatetimeIndex.get_loc\u001b[0;34m(self, key, method, tolerance)\u001b[0m\n\u001b[1;32m    703\u001b[0m \u001b[38;5;28;01mtry\u001b[39;00m:\n\u001b[0;32m--> 704\u001b[0m     parsed, reso \u001b[38;5;241m=\u001b[39m \u001b[38;5;28;43mself\u001b[39;49m\u001b[38;5;241;43m.\u001b[39;49m\u001b[43m_parse_with_reso\u001b[49m\u001b[43m(\u001b[49m\u001b[43mkey\u001b[49m\u001b[43m)\u001b[49m\n\u001b[1;32m    705\u001b[0m \u001b[38;5;28;01mexcept\u001b[39;00m \u001b[38;5;167;01mValueError\u001b[39;00m \u001b[38;5;28;01mas\u001b[39;00m err:\n",
      "File \u001b[0;32m~/.local/lib/python3.10/site-packages/pandas/core/indexes/datetimelike.py:230\u001b[0m, in \u001b[0;36mDatetimeIndexOpsMixin._parse_with_reso\u001b[0;34m(self, label)\u001b[0m\n\u001b[1;32m    229\u001b[0m     freq \u001b[38;5;241m=\u001b[39m \u001b[38;5;28mgetattr\u001b[39m(\u001b[38;5;28mself\u001b[39m, \u001b[38;5;124m\"\u001b[39m\u001b[38;5;124mfreqstr\u001b[39m\u001b[38;5;124m\"\u001b[39m, \u001b[38;5;28mgetattr\u001b[39m(\u001b[38;5;28mself\u001b[39m, \u001b[38;5;124m\"\u001b[39m\u001b[38;5;124minferred_freq\u001b[39m\u001b[38;5;124m\"\u001b[39m, \u001b[38;5;28;01mNone\u001b[39;00m))\n\u001b[0;32m--> 230\u001b[0m parsed, reso_str \u001b[38;5;241m=\u001b[39m \u001b[43mparsing\u001b[49m\u001b[38;5;241;43m.\u001b[39;49m\u001b[43mparse_time_string\u001b[49m\u001b[43m(\u001b[49m\u001b[43mlabel\u001b[49m\u001b[43m,\u001b[49m\u001b[43m \u001b[49m\u001b[43mfreq\u001b[49m\u001b[43m)\u001b[49m\n\u001b[1;32m    231\u001b[0m reso \u001b[38;5;241m=\u001b[39m Resolution\u001b[38;5;241m.\u001b[39mfrom_attrname(reso_str)\n",
      "File \u001b[0;32m~/.local/lib/python3.10/site-packages/pandas/_libs/tslibs/parsing.pyx:369\u001b[0m, in \u001b[0;36mpandas._libs.tslibs.parsing.parse_time_string\u001b[0;34m()\u001b[0m\n",
      "File \u001b[0;32m~/.local/lib/python3.10/site-packages/pandas/_libs/tslibs/parsing.pyx:447\u001b[0m, in \u001b[0;36mpandas._libs.tslibs.parsing.parse_datetime_string_with_reso\u001b[0;34m()\u001b[0m\n",
      "\u001b[0;31mDateParseError\u001b[0m: Unknown datetime string format, unable to parse: temp",
      "\nThe above exception was the direct cause of the following exception:\n",
      "\u001b[0;31mKeyError\u001b[0m                                  Traceback (most recent call last)",
      "Cell \u001b[0;32mIn[77], line 38\u001b[0m\n\u001b[1;32m     28\u001b[0m \u001b[38;5;66;03m#union = FeatureUnion([('drift', QuadBackground()), \u001b[39;00m\n\u001b[1;32m     29\u001b[0m \u001b[38;5;66;03m#                      ('fourier_annual', FourierComponents(1/365))])\u001b[39;00m\n\u001b[1;32m     31\u001b[0m model_seasonality_fourier \u001b[38;5;241m=\u001b[39m Pipeline([\n\u001b[1;32m     32\u001b[0m                                     (\u001b[38;5;124m'\u001b[39m\u001b[38;5;124mfromdt\u001b[39m\u001b[38;5;124m'\u001b[39m, AdapterFunction()),\n\u001b[1;32m     33\u001b[0m                        \u001b[38;5;66;03m#             ('indices', IndexSelector()),\u001b[39;00m\n\u001b[1;32m     34\u001b[0m                                     (\u001b[38;5;124m'\u001b[39m\u001b[38;5;124mfourier_annual\u001b[39m\u001b[38;5;124m'\u001b[39m, FourierComponents(\u001b[38;5;241m1\u001b[39m\u001b[38;5;241m/\u001b[39m\u001b[38;5;241m365\u001b[39m)),\n\u001b[1;32m     35\u001b[0m                                     (\u001b[38;5;124m'\u001b[39m\u001b[38;5;124mregressor\u001b[39m\u001b[38;5;124m'\u001b[39m, LinearRegression())\n\u001b[1;32m     36\u001b[0m                                     ])\n\u001b[0;32m---> 38\u001b[0m \u001b[43mmodel_seasonality_fourier\u001b[49m\u001b[38;5;241;43m.\u001b[39;49m\u001b[43mfit\u001b[49m\u001b[43m(\u001b[49m\u001b[43mtrain_data\u001b[49m\u001b[43m,\u001b[49m\u001b[43m \u001b[49m\u001b[43mtrain_data\u001b[49m\u001b[38;5;241;43m.\u001b[39;49m\u001b[43mvalues\u001b[49m\u001b[43m)\u001b[49m\n\u001b[1;32m     39\u001b[0m plt\u001b[38;5;241m.\u001b[39mplot(train_data\u001b[38;5;241m.\u001b[39mindex, train_data\u001b[38;5;241m.\u001b[39mvalues, \n\u001b[1;32m     40\u001b[0m          train_data\u001b[38;5;241m.\u001b[39mindex, model_seasonality_fourier\u001b[38;5;241m.\u001b[39mpredict(train_data))\n\u001b[1;32m     41\u001b[0m plt\u001b[38;5;241m.\u001b[39mxticks(rotation\u001b[38;5;241m=\u001b[39m\u001b[38;5;241m45\u001b[39m);\n",
      "File \u001b[0;32m~/.local/lib/python3.10/site-packages/sklearn/pipeline.py:402\u001b[0m, in \u001b[0;36mPipeline.fit\u001b[0;34m(self, X, y, **fit_params)\u001b[0m\n\u001b[1;32m    376\u001b[0m \u001b[38;5;250m\u001b[39m\u001b[38;5;124;03m\"\"\"Fit the model.\u001b[39;00m\n\u001b[1;32m    377\u001b[0m \n\u001b[1;32m    378\u001b[0m \u001b[38;5;124;03mFit all the transformers one after the other and transform the\u001b[39;00m\n\u001b[0;32m   (...)\u001b[0m\n\u001b[1;32m    399\u001b[0m \u001b[38;5;124;03m    Pipeline with fitted steps.\u001b[39;00m\n\u001b[1;32m    400\u001b[0m \u001b[38;5;124;03m\"\"\"\u001b[39;00m\n\u001b[1;32m    401\u001b[0m fit_params_steps \u001b[38;5;241m=\u001b[39m \u001b[38;5;28mself\u001b[39m\u001b[38;5;241m.\u001b[39m_check_fit_params(\u001b[38;5;241m*\u001b[39m\u001b[38;5;241m*\u001b[39mfit_params)\n\u001b[0;32m--> 402\u001b[0m Xt \u001b[38;5;241m=\u001b[39m \u001b[38;5;28;43mself\u001b[39;49m\u001b[38;5;241;43m.\u001b[39;49m\u001b[43m_fit\u001b[49m\u001b[43m(\u001b[49m\u001b[43mX\u001b[49m\u001b[43m,\u001b[49m\u001b[43m \u001b[49m\u001b[43my\u001b[49m\u001b[43m,\u001b[49m\u001b[43m \u001b[49m\u001b[38;5;241;43m*\u001b[39;49m\u001b[38;5;241;43m*\u001b[39;49m\u001b[43mfit_params_steps\u001b[49m\u001b[43m)\u001b[49m\n\u001b[1;32m    403\u001b[0m \u001b[38;5;28;01mwith\u001b[39;00m _print_elapsed_time(\u001b[38;5;124m\"\u001b[39m\u001b[38;5;124mPipeline\u001b[39m\u001b[38;5;124m\"\u001b[39m, \u001b[38;5;28mself\u001b[39m\u001b[38;5;241m.\u001b[39m_log_message(\u001b[38;5;28mlen\u001b[39m(\u001b[38;5;28mself\u001b[39m\u001b[38;5;241m.\u001b[39msteps) \u001b[38;5;241m-\u001b[39m \u001b[38;5;241m1\u001b[39m)):\n\u001b[1;32m    404\u001b[0m     \u001b[38;5;28;01mif\u001b[39;00m \u001b[38;5;28mself\u001b[39m\u001b[38;5;241m.\u001b[39m_final_estimator \u001b[38;5;241m!=\u001b[39m \u001b[38;5;124m\"\u001b[39m\u001b[38;5;124mpassthrough\u001b[39m\u001b[38;5;124m\"\u001b[39m:\n",
      "File \u001b[0;32m~/.local/lib/python3.10/site-packages/sklearn/pipeline.py:360\u001b[0m, in \u001b[0;36mPipeline._fit\u001b[0;34m(self, X, y, **fit_params_steps)\u001b[0m\n\u001b[1;32m    358\u001b[0m     cloned_transformer \u001b[38;5;241m=\u001b[39m clone(transformer)\n\u001b[1;32m    359\u001b[0m \u001b[38;5;66;03m# Fit or load from cache the current transformer\u001b[39;00m\n\u001b[0;32m--> 360\u001b[0m X, fitted_transformer \u001b[38;5;241m=\u001b[39m \u001b[43mfit_transform_one_cached\u001b[49m\u001b[43m(\u001b[49m\n\u001b[1;32m    361\u001b[0m \u001b[43m    \u001b[49m\u001b[43mcloned_transformer\u001b[49m\u001b[43m,\u001b[49m\n\u001b[1;32m    362\u001b[0m \u001b[43m    \u001b[49m\u001b[43mX\u001b[49m\u001b[43m,\u001b[49m\n\u001b[1;32m    363\u001b[0m \u001b[43m    \u001b[49m\u001b[43my\u001b[49m\u001b[43m,\u001b[49m\n\u001b[1;32m    364\u001b[0m \u001b[43m    \u001b[49m\u001b[38;5;28;43;01mNone\u001b[39;49;00m\u001b[43m,\u001b[49m\n\u001b[1;32m    365\u001b[0m \u001b[43m    \u001b[49m\u001b[43mmessage_clsname\u001b[49m\u001b[38;5;241;43m=\u001b[39;49m\u001b[38;5;124;43m\"\u001b[39;49m\u001b[38;5;124;43mPipeline\u001b[39;49m\u001b[38;5;124;43m\"\u001b[39;49m\u001b[43m,\u001b[49m\n\u001b[1;32m    366\u001b[0m \u001b[43m    \u001b[49m\u001b[43mmessage\u001b[49m\u001b[38;5;241;43m=\u001b[39;49m\u001b[38;5;28;43mself\u001b[39;49m\u001b[38;5;241;43m.\u001b[39;49m\u001b[43m_log_message\u001b[49m\u001b[43m(\u001b[49m\u001b[43mstep_idx\u001b[49m\u001b[43m)\u001b[49m\u001b[43m,\u001b[49m\n\u001b[1;32m    367\u001b[0m \u001b[43m    \u001b[49m\u001b[38;5;241;43m*\u001b[39;49m\u001b[38;5;241;43m*\u001b[39;49m\u001b[43mfit_params_steps\u001b[49m\u001b[43m[\u001b[49m\u001b[43mname\u001b[49m\u001b[43m]\u001b[49m\u001b[43m,\u001b[49m\n\u001b[1;32m    368\u001b[0m \u001b[43m\u001b[49m\u001b[43m)\u001b[49m\n\u001b[1;32m    369\u001b[0m \u001b[38;5;66;03m# Replace the transformer of the step with the fitted\u001b[39;00m\n\u001b[1;32m    370\u001b[0m \u001b[38;5;66;03m# transformer. This is necessary when loading the transformer\u001b[39;00m\n\u001b[1;32m    371\u001b[0m \u001b[38;5;66;03m# from the cache.\u001b[39;00m\n\u001b[1;32m    372\u001b[0m \u001b[38;5;28mself\u001b[39m\u001b[38;5;241m.\u001b[39msteps[step_idx] \u001b[38;5;241m=\u001b[39m (name, fitted_transformer)\n",
      "File \u001b[0;32m~/.local/lib/python3.10/site-packages/joblib/memory.py:349\u001b[0m, in \u001b[0;36mNotMemorizedFunc.__call__\u001b[0;34m(self, *args, **kwargs)\u001b[0m\n\u001b[1;32m    348\u001b[0m \u001b[38;5;28;01mdef\u001b[39;00m \u001b[38;5;21m__call__\u001b[39m(\u001b[38;5;28mself\u001b[39m, \u001b[38;5;241m*\u001b[39margs, \u001b[38;5;241m*\u001b[39m\u001b[38;5;241m*\u001b[39mkwargs):\n\u001b[0;32m--> 349\u001b[0m     \u001b[38;5;28;01mreturn\u001b[39;00m \u001b[38;5;28;43mself\u001b[39;49m\u001b[38;5;241;43m.\u001b[39;49m\u001b[43mfunc\u001b[49m\u001b[43m(\u001b[49m\u001b[38;5;241;43m*\u001b[39;49m\u001b[43margs\u001b[49m\u001b[43m,\u001b[49m\u001b[43m \u001b[49m\u001b[38;5;241;43m*\u001b[39;49m\u001b[38;5;241;43m*\u001b[39;49m\u001b[43mkwargs\u001b[49m\u001b[43m)\u001b[49m\n",
      "File \u001b[0;32m~/.local/lib/python3.10/site-packages/sklearn/pipeline.py:894\u001b[0m, in \u001b[0;36m_fit_transform_one\u001b[0;34m(transformer, X, y, weight, message_clsname, message, **fit_params)\u001b[0m\n\u001b[1;32m    892\u001b[0m \u001b[38;5;28;01mwith\u001b[39;00m _print_elapsed_time(message_clsname, message):\n\u001b[1;32m    893\u001b[0m     \u001b[38;5;28;01mif\u001b[39;00m \u001b[38;5;28mhasattr\u001b[39m(transformer, \u001b[38;5;124m\"\u001b[39m\u001b[38;5;124mfit_transform\u001b[39m\u001b[38;5;124m\"\u001b[39m):\n\u001b[0;32m--> 894\u001b[0m         res \u001b[38;5;241m=\u001b[39m \u001b[43mtransformer\u001b[49m\u001b[38;5;241;43m.\u001b[39;49m\u001b[43mfit_transform\u001b[49m\u001b[43m(\u001b[49m\u001b[43mX\u001b[49m\u001b[43m,\u001b[49m\u001b[43m \u001b[49m\u001b[43my\u001b[49m\u001b[43m,\u001b[49m\u001b[43m \u001b[49m\u001b[38;5;241;43m*\u001b[39;49m\u001b[38;5;241;43m*\u001b[39;49m\u001b[43mfit_params\u001b[49m\u001b[43m)\u001b[49m\n\u001b[1;32m    895\u001b[0m     \u001b[38;5;28;01melse\u001b[39;00m:\n\u001b[1;32m    896\u001b[0m         res \u001b[38;5;241m=\u001b[39m transformer\u001b[38;5;241m.\u001b[39mfit(X, y, \u001b[38;5;241m*\u001b[39m\u001b[38;5;241m*\u001b[39mfit_params)\u001b[38;5;241m.\u001b[39mtransform(X)\n",
      "File \u001b[0;32m~/.local/lib/python3.10/site-packages/sklearn/utils/_set_output.py:142\u001b[0m, in \u001b[0;36m_wrap_method_output.<locals>.wrapped\u001b[0;34m(self, X, *args, **kwargs)\u001b[0m\n\u001b[1;32m    140\u001b[0m \u001b[38;5;129m@wraps\u001b[39m(f)\n\u001b[1;32m    141\u001b[0m \u001b[38;5;28;01mdef\u001b[39;00m \u001b[38;5;21mwrapped\u001b[39m(\u001b[38;5;28mself\u001b[39m, X, \u001b[38;5;241m*\u001b[39margs, \u001b[38;5;241m*\u001b[39m\u001b[38;5;241m*\u001b[39mkwargs):\n\u001b[0;32m--> 142\u001b[0m     data_to_wrap \u001b[38;5;241m=\u001b[39m \u001b[43mf\u001b[49m\u001b[43m(\u001b[49m\u001b[38;5;28;43mself\u001b[39;49m\u001b[43m,\u001b[49m\u001b[43m \u001b[49m\u001b[43mX\u001b[49m\u001b[43m,\u001b[49m\u001b[43m \u001b[49m\u001b[38;5;241;43m*\u001b[39;49m\u001b[43margs\u001b[49m\u001b[43m,\u001b[49m\u001b[43m \u001b[49m\u001b[38;5;241;43m*\u001b[39;49m\u001b[38;5;241;43m*\u001b[39;49m\u001b[43mkwargs\u001b[49m\u001b[43m)\u001b[49m\n\u001b[1;32m    143\u001b[0m     \u001b[38;5;28;01mif\u001b[39;00m \u001b[38;5;28misinstance\u001b[39m(data_to_wrap, \u001b[38;5;28mtuple\u001b[39m):\n\u001b[1;32m    144\u001b[0m         \u001b[38;5;66;03m# only wrap the first output for cross decomposition\u001b[39;00m\n\u001b[1;32m    145\u001b[0m         \u001b[38;5;28;01mreturn\u001b[39;00m (\n\u001b[1;32m    146\u001b[0m             _wrap_data_with_container(method, data_to_wrap[\u001b[38;5;241m0\u001b[39m], X, \u001b[38;5;28mself\u001b[39m),\n\u001b[1;32m    147\u001b[0m             \u001b[38;5;241m*\u001b[39mdata_to_wrap[\u001b[38;5;241m1\u001b[39m:],\n\u001b[1;32m    148\u001b[0m         )\n",
      "File \u001b[0;32m~/.local/lib/python3.10/site-packages/sklearn/utils/_set_output.py:142\u001b[0m, in \u001b[0;36m_wrap_method_output.<locals>.wrapped\u001b[0;34m(self, X, *args, **kwargs)\u001b[0m\n\u001b[1;32m    140\u001b[0m \u001b[38;5;129m@wraps\u001b[39m(f)\n\u001b[1;32m    141\u001b[0m \u001b[38;5;28;01mdef\u001b[39;00m \u001b[38;5;21mwrapped\u001b[39m(\u001b[38;5;28mself\u001b[39m, X, \u001b[38;5;241m*\u001b[39margs, \u001b[38;5;241m*\u001b[39m\u001b[38;5;241m*\u001b[39mkwargs):\n\u001b[0;32m--> 142\u001b[0m     data_to_wrap \u001b[38;5;241m=\u001b[39m \u001b[43mf\u001b[49m\u001b[43m(\u001b[49m\u001b[38;5;28;43mself\u001b[39;49m\u001b[43m,\u001b[49m\u001b[43m \u001b[49m\u001b[43mX\u001b[49m\u001b[43m,\u001b[49m\u001b[43m \u001b[49m\u001b[38;5;241;43m*\u001b[39;49m\u001b[43margs\u001b[49m\u001b[43m,\u001b[49m\u001b[43m \u001b[49m\u001b[38;5;241;43m*\u001b[39;49m\u001b[38;5;241;43m*\u001b[39;49m\u001b[43mkwargs\u001b[49m\u001b[43m)\u001b[49m\n\u001b[1;32m    143\u001b[0m     \u001b[38;5;28;01mif\u001b[39;00m \u001b[38;5;28misinstance\u001b[39m(data_to_wrap, \u001b[38;5;28mtuple\u001b[39m):\n\u001b[1;32m    144\u001b[0m         \u001b[38;5;66;03m# only wrap the first output for cross decomposition\u001b[39;00m\n\u001b[1;32m    145\u001b[0m         \u001b[38;5;28;01mreturn\u001b[39;00m (\n\u001b[1;32m    146\u001b[0m             _wrap_data_with_container(method, data_to_wrap[\u001b[38;5;241m0\u001b[39m], X, \u001b[38;5;28mself\u001b[39m),\n\u001b[1;32m    147\u001b[0m             \u001b[38;5;241m*\u001b[39mdata_to_wrap[\u001b[38;5;241m1\u001b[39m:],\n\u001b[1;32m    148\u001b[0m         )\n",
      "File \u001b[0;32m~/.local/lib/python3.10/site-packages/sklearn/base.py:851\u001b[0m, in \u001b[0;36mTransformerMixin.fit_transform\u001b[0;34m(self, X, y, **fit_params)\u001b[0m\n\u001b[1;32m    848\u001b[0m     \u001b[38;5;28;01mreturn\u001b[39;00m \u001b[38;5;28mself\u001b[39m\u001b[38;5;241m.\u001b[39mfit(X, \u001b[38;5;241m*\u001b[39m\u001b[38;5;241m*\u001b[39mfit_params)\u001b[38;5;241m.\u001b[39mtransform(X)\n\u001b[1;32m    849\u001b[0m \u001b[38;5;28;01melse\u001b[39;00m:\n\u001b[1;32m    850\u001b[0m     \u001b[38;5;66;03m# fit method of arity 2 (supervised transformation)\u001b[39;00m\n\u001b[0;32m--> 851\u001b[0m     \u001b[38;5;28;01mreturn\u001b[39;00m \u001b[38;5;28;43mself\u001b[39;49m\u001b[38;5;241;43m.\u001b[39;49m\u001b[43mfit\u001b[49m\u001b[43m(\u001b[49m\u001b[43mX\u001b[49m\u001b[43m,\u001b[49m\u001b[43m \u001b[49m\u001b[43my\u001b[49m\u001b[43m,\u001b[49m\u001b[43m \u001b[49m\u001b[38;5;241;43m*\u001b[39;49m\u001b[38;5;241;43m*\u001b[39;49m\u001b[43mfit_params\u001b[49m\u001b[43m)\u001b[49m\u001b[38;5;241;43m.\u001b[39;49m\u001b[43mtransform\u001b[49m\u001b[43m(\u001b[49m\u001b[43mX\u001b[49m\u001b[43m)\u001b[49m\n",
      "File \u001b[0;32m~/.local/lib/python3.10/site-packages/sklearn/utils/_set_output.py:142\u001b[0m, in \u001b[0;36m_wrap_method_output.<locals>.wrapped\u001b[0;34m(self, X, *args, **kwargs)\u001b[0m\n\u001b[1;32m    140\u001b[0m \u001b[38;5;129m@wraps\u001b[39m(f)\n\u001b[1;32m    141\u001b[0m \u001b[38;5;28;01mdef\u001b[39;00m \u001b[38;5;21mwrapped\u001b[39m(\u001b[38;5;28mself\u001b[39m, X, \u001b[38;5;241m*\u001b[39margs, \u001b[38;5;241m*\u001b[39m\u001b[38;5;241m*\u001b[39mkwargs):\n\u001b[0;32m--> 142\u001b[0m     data_to_wrap \u001b[38;5;241m=\u001b[39m \u001b[43mf\u001b[49m\u001b[43m(\u001b[49m\u001b[38;5;28;43mself\u001b[39;49m\u001b[43m,\u001b[49m\u001b[43m \u001b[49m\u001b[43mX\u001b[49m\u001b[43m,\u001b[49m\u001b[43m \u001b[49m\u001b[38;5;241;43m*\u001b[39;49m\u001b[43margs\u001b[49m\u001b[43m,\u001b[49m\u001b[43m \u001b[49m\u001b[38;5;241;43m*\u001b[39;49m\u001b[38;5;241;43m*\u001b[39;49m\u001b[43mkwargs\u001b[49m\u001b[43m)\u001b[49m\n\u001b[1;32m    143\u001b[0m     \u001b[38;5;28;01mif\u001b[39;00m \u001b[38;5;28misinstance\u001b[39m(data_to_wrap, \u001b[38;5;28mtuple\u001b[39m):\n\u001b[1;32m    144\u001b[0m         \u001b[38;5;66;03m# only wrap the first output for cross decomposition\u001b[39;00m\n\u001b[1;32m    145\u001b[0m         \u001b[38;5;28;01mreturn\u001b[39;00m (\n\u001b[1;32m    146\u001b[0m             _wrap_data_with_container(method, data_to_wrap[\u001b[38;5;241m0\u001b[39m], X, \u001b[38;5;28mself\u001b[39m),\n\u001b[1;32m    147\u001b[0m             \u001b[38;5;241m*\u001b[39mdata_to_wrap[\u001b[38;5;241m1\u001b[39m:],\n\u001b[1;32m    148\u001b[0m         )\n",
      "Cell \u001b[0;32mIn[76], line 8\u001b[0m, in \u001b[0;36mAdapterFunction.transform\u001b[0;34m(self, X)\u001b[0m\n\u001b[1;32m      7\u001b[0m \u001b[38;5;28;01mdef\u001b[39;00m \u001b[38;5;21mtransform\u001b[39m(\u001b[38;5;28mself\u001b[39m, X):\n\u001b[0;32m----> 8\u001b[0m     X[\u001b[38;5;124m'\u001b[39m\u001b[38;5;124mtemp\u001b[39m\u001b[38;5;124m'\u001b[39m] \u001b[38;5;241m=\u001b[39m \u001b[43mX\u001b[49m\u001b[43m[\u001b[49m\u001b[38;5;124;43m'\u001b[39;49m\u001b[38;5;124;43mtemp\u001b[39;49m\u001b[38;5;124;43m'\u001b[39;49m\u001b[43m]\u001b[49m\u001b[38;5;241m.\u001b[39mastype(\u001b[38;5;28mfloat\u001b[39m)\n\u001b[1;32m      9\u001b[0m     X[\u001b[38;5;124m'\u001b[39m\u001b[38;5;124mtime\u001b[39m\u001b[38;5;124m'\u001b[39m] \u001b[38;5;241m=\u001b[39m pd\u001b[38;5;241m.\u001b[39mto_datetime(X[\u001b[38;5;124m'\u001b[39m\u001b[38;5;124mtime\u001b[39m\u001b[38;5;124m'\u001b[39m])\n\u001b[1;32m     10\u001b[0m     temperatures \u001b[38;5;241m=\u001b[39m X\u001b[38;5;241m.\u001b[39mset_index(\u001b[38;5;124m'\u001b[39m\u001b[38;5;124mtime\u001b[39m\u001b[38;5;124m'\u001b[39m)[\u001b[38;5;124m'\u001b[39m\u001b[38;5;124mtemp\u001b[39m\u001b[38;5;124m'\u001b[39m]\n",
      "File \u001b[0;32m~/.local/lib/python3.10/site-packages/pandas/core/series.py:981\u001b[0m, in \u001b[0;36mSeries.__getitem__\u001b[0;34m(self, key)\u001b[0m\n\u001b[1;32m    978\u001b[0m     \u001b[38;5;28;01mreturn\u001b[39;00m \u001b[38;5;28mself\u001b[39m\u001b[38;5;241m.\u001b[39m_values[key]\n\u001b[1;32m    980\u001b[0m \u001b[38;5;28;01melif\u001b[39;00m key_is_scalar:\n\u001b[0;32m--> 981\u001b[0m     \u001b[38;5;28;01mreturn\u001b[39;00m \u001b[38;5;28;43mself\u001b[39;49m\u001b[38;5;241;43m.\u001b[39;49m\u001b[43m_get_value\u001b[49m\u001b[43m(\u001b[49m\u001b[43mkey\u001b[49m\u001b[43m)\u001b[49m\n\u001b[1;32m    983\u001b[0m \u001b[38;5;28;01mif\u001b[39;00m is_hashable(key):\n\u001b[1;32m    984\u001b[0m     \u001b[38;5;66;03m# Otherwise index.get_value will raise InvalidIndexError\u001b[39;00m\n\u001b[1;32m    985\u001b[0m     \u001b[38;5;28;01mtry\u001b[39;00m:\n\u001b[1;32m    986\u001b[0m         \u001b[38;5;66;03m# For labels that don't resolve as scalars like tuples and frozensets\u001b[39;00m\n",
      "File \u001b[0;32m~/.local/lib/python3.10/site-packages/pandas/core/series.py:1089\u001b[0m, in \u001b[0;36mSeries._get_value\u001b[0;34m(self, label, takeable)\u001b[0m\n\u001b[1;32m   1086\u001b[0m     \u001b[38;5;28;01mreturn\u001b[39;00m \u001b[38;5;28mself\u001b[39m\u001b[38;5;241m.\u001b[39m_values[label]\n\u001b[1;32m   1088\u001b[0m \u001b[38;5;66;03m# Similar to Index.get_value, but we do not fall back to positional\u001b[39;00m\n\u001b[0;32m-> 1089\u001b[0m loc \u001b[38;5;241m=\u001b[39m \u001b[38;5;28;43mself\u001b[39;49m\u001b[38;5;241;43m.\u001b[39;49m\u001b[43mindex\u001b[49m\u001b[38;5;241;43m.\u001b[39;49m\u001b[43mget_loc\u001b[49m\u001b[43m(\u001b[49m\u001b[43mlabel\u001b[49m\u001b[43m)\u001b[49m\n\u001b[1;32m   1090\u001b[0m \u001b[38;5;28;01mreturn\u001b[39;00m \u001b[38;5;28mself\u001b[39m\u001b[38;5;241m.\u001b[39mindex\u001b[38;5;241m.\u001b[39m_get_values_for_loc(\u001b[38;5;28mself\u001b[39m, loc, label)\n",
      "File \u001b[0;32m~/.local/lib/python3.10/site-packages/pandas/core/indexes/datetimes.py:706\u001b[0m, in \u001b[0;36mDatetimeIndex.get_loc\u001b[0;34m(self, key, method, tolerance)\u001b[0m\n\u001b[1;32m    704\u001b[0m     parsed, reso \u001b[38;5;241m=\u001b[39m \u001b[38;5;28mself\u001b[39m\u001b[38;5;241m.\u001b[39m_parse_with_reso(key)\n\u001b[1;32m    705\u001b[0m \u001b[38;5;28;01mexcept\u001b[39;00m \u001b[38;5;167;01mValueError\u001b[39;00m \u001b[38;5;28;01mas\u001b[39;00m err:\n\u001b[0;32m--> 706\u001b[0m     \u001b[38;5;28;01mraise\u001b[39;00m \u001b[38;5;167;01mKeyError\u001b[39;00m(key) \u001b[38;5;28;01mfrom\u001b[39;00m \u001b[38;5;21;01merr\u001b[39;00m\n\u001b[1;32m    707\u001b[0m \u001b[38;5;28mself\u001b[39m\u001b[38;5;241m.\u001b[39m_deprecate_mismatched_indexing(parsed, one_way\u001b[38;5;241m=\u001b[39m\u001b[38;5;28;01mTrue\u001b[39;00m)\n\u001b[1;32m    709\u001b[0m \u001b[38;5;28;01mif\u001b[39;00m \u001b[38;5;28mself\u001b[39m\u001b[38;5;241m.\u001b[39m_can_partial_date_slice(reso):\n",
      "\u001b[0;31mKeyError\u001b[0m: 'temp'"
     ]
    }
   ],
   "source": [
    "from sklearn.linear_model import LinearRegression\n",
    "from sklearn.pipeline import Pipeline\n",
    "from sklearn import base\n",
    "\n",
    "\n",
    "class IndexSelector(base.BaseEstimator, base.TransformerMixin):\n",
    "    \"\"\"Return indices of a data frame or Series for use in other estimators.\"\"\"\n",
    "    \n",
    "    def fit(self, X, y=None):\n",
    "        return self\n",
    "    \n",
    "    def transform(self, X):\n",
    "        return X.index\n",
    "\n",
    "class FourierComponents(base.BaseEstimator, base.TransformerMixin):\n",
    "    \n",
    "    def __init__(self, freq):\n",
    "        self.freq = freq\n",
    "    \n",
    "    def fit(self, X, y=None):\n",
    "        self.X0 = X[0]\n",
    "        return self\n",
    "    \n",
    "    def transform(self, X):\n",
    "        dt = (X - self.X0).days * 2 * np.pi * self.freq\n",
    "        return np.c_[np.sin(dt), np.cos(dt)]\n",
    "\n",
    "#union = FeatureUnion([('drift', QuadBackground()), \n",
    "#                      ('fourier_annual', FourierComponents(1/365))])\n",
    "\n",
    "model_seasonality_fourier = Pipeline([\n",
    "                                    ('fromdt', AdapterFunction()),\n",
    "                       #             ('indices', IndexSelector()),\n",
    "                                    ('fourier_annual', FourierComponents(1/365)),\n",
    "                                    ('regressor', LinearRegression())\n",
    "                                    ])\n",
    "\n",
    "model_seasonality_fourier.fit(train_data, train_data.values)\n",
    "plt.plot(train_data.index, train_data.values, \n",
    "         train_data.index, model_seasonality_fourier.predict(train_data))\n",
    "plt.xticks(rotation=45);"
   ]
  },
  {
   "cell_type": "code",
   "execution_count": 64,
   "id": "e438bdfb",
   "metadata": {
    "scrolled": true
   },
   "outputs": [
    {
     "name": "stdout",
     "output_type": "stream",
     "text": [
      "Train R^2: 0.7641779288641962\n",
      "Validation R^2: 0.7421928538388056\n"
     ]
    }
   ],
   "source": [
    "print(\"Train R^2:\", model_seasonality_fourier.score(train_data, train_data.values))\n",
    "print(\"Validation R^2:\", model_seasonality_fourier.score(valid_data, valid_data.values))"
   ]
  },
  {
   "cell_type": "code",
   "execution_count": 65,
   "id": "7f49e6f8",
   "metadata": {},
   "outputs": [],
   "source": [
    "train_noise = train_data - model_seasonality_fourier.predict(train_data)"
   ]
  },
  {
   "cell_type": "code",
   "execution_count": 66,
   "id": "63c9f498",
   "metadata": {
    "scrolled": true
   },
   "outputs": [
    {
     "data": {
      "image/png": "[encoded data removed]",
      "text/plain": [
       "<Figure size 640x480 with 1 Axes>"
      ]
     },
     "metadata": {},
     "output_type": "display_data"
    }
   ],
   "source": [
    "plt.plot(train_noise)\n",
    "plt.xticks(rotation=45);"
   ]
  },
  {
   "cell_type": "code",
   "execution_count": 70,
   "id": "14f955fa",
   "metadata": {
    "scrolled": true
   },
   "outputs": [
    {
     "data": {
      "image/png": "[encoded data removed]",
      "text/plain": [
       "<Figure size 640x480 with 1 Axes>"
      ]
     },
     "metadata": {},
     "output_type": "display_data"
    }
   ],
   "source": [
    "from pandas.plotting import autocorrelation_plot\n",
    "\n",
    "autocorrelation_plot(train_noise)\n",
    "plt.xlabel('Lag (days)')\n",
    "plt.xlim([0, 500]);"
   ]
  },
  {
   "cell_type": "markdown",
   "id": "fbdcbc68",
   "metadata": {
    "slideshow": null
   },
   "source": [
    "## Fourier model"
   ]
  },
  {
   "cell_type": "markdown",
   "id": "ae312a05",
   "metadata": {
    "slideshow": null
   },
   "source": [
    "Let's consider another way to deal with the seasonal terms.  Since we know that temperature is roughly sinusoidal, we know that a reasonable model might be\n",
    "\n",
    "$$ y_t = y_0 \\sin\\left(2\\pi\\frac{t - t_0}{T}\\right) + \\epsilon $$\n",
    "\n",
    "where $y_0$ and $t_0$ are parameters to be learned and $T$ is the period - one year for seasonal variation, one day for daily, etc.  While this is linear in $y_0$, it is not linear in $t_0$. However, we know from Fourier analysis, that the above is\n",
    "equivalent to\n",
    "\n",
    "$$ y_t = A \\sin\\left(2\\pi\\frac{t}{T}\\right) + B \\cos\\left(2\\pi\\frac{t}{T}\\right) + \\epsilon $$\n",
    "\n",
    "which is linear in $A$ and $B$.\n",
    "\n",
    "Create a model containing sinusoidal terms on one or more time scales, and fit it to the data using a linear regression.  Build a `fourier_factory` function that will return instances of this model."
   ]
  },
  {
   "cell_type": "code",
   "execution_count": null,
   "id": "e9db5594",
   "metadata": {
    "slideshow": null
   },
   "outputs": [],
   "source": [
    "def fourier_factory():\n",
    "    return ..."
   ]
  },
  {
   "cell_type": "markdown",
   "id": "a5660d7d",
   "metadata": {
    "slideshow": null
   },
   "source": [
    "A general `GroupByEstimator` should be able to take the new factory function and build a model for each city."
   ]
  },
  {
   "cell_type": "code",
   "execution_count": 82,
   "id": "bb839946",
   "metadata": {
    "slideshow": null
   },
   "outputs": [],
   "source": [
    "fourier_model = season_model"
   ]
  },
  {
   "cell_type": "markdown",
   "id": "858f6b43",
   "metadata": {
    "slideshow": null
   },
   "source": [
    "Submit this model to the grader."
   ]
  },
  {
   "cell_type": "code",
   "execution_count": 83,
   "id": "eeb645c5",
   "metadata": {
    "slideshow": null
   },
   "outputs": [
    {
     "name": "stdout",
     "output_type": "stream",
     "text": [
      "==================\n",
      "Your score: 0.9939\n",
      "==================\n"
     ]
    }
   ],
   "source": [
    "grader.score('ts__fourier_model', fourier_model.predict)"
   ]
  },
  {
   "cell_type": "markdown",
   "id": "3ef6fd99",
   "metadata": {
    "slideshow": null
   },
   "source": [
    "*Copyright &copy; 2022 Pragmatic Institute. This content is licensed solely for personal use. Redistribution or publication of this material is strictly prohibited.*"
   ]
  }
 ],
 "metadata": {
  "kernelspec": {
   "display_name": "Python3",
   "language": "python",
   "name": "python3"
  },
  "language_info": {
   "codemirror_mode": {
    "name": "ipython",
    "version": 3
   },
   "file_extension": ".py",
   "mimetype": "text/x-python",
   "name": "python",
   "nbconvert_exporter": "python",
   "pygments_lexer": "ipython3",
   "version": "3.10.8"
  },
  "nbclean": true
 },
 "nbformat": 4,
 "nbformat_minor": 5
}
